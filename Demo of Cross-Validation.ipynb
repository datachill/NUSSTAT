{
 "cells": [
  {
   "cell_type": "code",
   "execution_count": null,
   "metadata": {
    "collapsed": true
   },
   "outputs": [],
   "source": [
    "##########################################################\n",
    "# DSC5103 Statistics\n",
    "# Session 6. Demo of Cross-Validation\n",
    "# 2016.11\n",
    "##########################################################"
   ]
  },
  {
   "cell_type": "code",
   "execution_count": 1,
   "metadata": {
    "collapsed": false
   },
   "outputs": [],
   "source": [
    "import pandas as pd\n",
    "import numpy as np\n",
    "import matplotlib as mpl\n",
    "import matplotlib.pyplot as plt\n",
    "\n",
    "from sklearn.preprocessing import PolynomialFeatures\n",
    "import statsmodels.api as sm\n",
    "import statsmodels.formula.api as smf\n",
    "from patsy import dmatrix\n",
    "import sklearn.cross_validation\n",
    "import seaborn as sns\n",
    "from sklearn.metrics import mean_squared_error\n",
    "\n",
    "%matplotlib inline"
   ]
  },
  {
   "cell_type": "code",
   "execution_count": 2,
   "metadata": {
    "collapsed": true
   },
   "outputs": [],
   "source": [
    "Auto = pd.read_csv('Auto.csv')"
   ]
  },
  {
   "cell_type": "code",
   "execution_count": 3,
   "metadata": {
    "collapsed": false
   },
   "outputs": [
    {
     "data": {
      "text/plain": [
       "(392, 9)"
      ]
     },
     "execution_count": 3,
     "metadata": {},
     "output_type": "execute_result"
    }
   ],
   "source": [
    "Auto.shape"
   ]
  },
  {
   "cell_type": "code",
   "execution_count": 4,
   "metadata": {
    "collapsed": true
   },
   "outputs": [],
   "source": [
    "#############################\n",
    "### The Validation Set Approach (50-50)\n",
    "#############################"
   ]
  },
  {
   "cell_type": "code",
   "execution_count": 4,
   "metadata": {
    "collapsed": true
   },
   "outputs": [],
   "source": [
    "RUN = 10  # the number of repetitions\n",
    "I = 10  # the max polynomical order to consider"
   ]
  },
  {
   "cell_type": "code",
   "execution_count": 5,
   "metadata": {
    "collapsed": true
   },
   "outputs": [],
   "source": [
    "# prepare an empty data.frame to save the MSE for each *i* and *run*\n",
    "i1, run1 = np.meshgrid(np.arange(1, I+0.1, 1), np.arange(1, RUN+0.1, 1))"
   ]
  },
  {
   "cell_type": "code",
   "execution_count": 6,
   "metadata": {
    "collapsed": false
   },
   "outputs": [],
   "source": [
    "# convert multi-dimensional array into one dimentsion\n",
    "i1 = i1.reshape(-1)\n",
    "run1 = run1.reshape(-1)"
   ]
  },
  {
   "cell_type": "code",
   "execution_count": 7,
   "metadata": {
    "collapsed": false
   },
   "outputs": [],
   "source": [
    "mse_validation = pd.DataFrame({'i': i1, 'run': run1})\n",
    "mse_validation['mse'] = 0"
   ]
  },
  {
   "cell_type": "code",
   "execution_count": 122,
   "metadata": {
    "collapsed": false
   },
   "outputs": [
    {
     "name": "stdout",
     "output_type": "stream",
     "text": [
      "     i  run        mse\n",
      "0  1.0  1.0  64.905503\n",
      "1  2.0  1.0  24.802121\n",
      "2  3.0  1.0  18.848293\n",
      "3  4.0  1.0  18.805111\n",
      "4  5.0  1.0  18.711722\n"
     ]
    }
   ],
   "source": [
    "print(mse_validation.head())"
   ]
  },
  {
   "cell_type": "code",
   "execution_count": 9,
   "metadata": {
    "collapsed": true
   },
   "outputs": [],
   "source": [
    "X4 = PolynomialFeatures(4).fit_transform(Auto.horsepower.reshape(-1,1))"
   ]
  },
  {
   "cell_type": "code",
   "execution_count": 10,
   "metadata": {
    "collapsed": false
   },
   "outputs": [
    {
     "name": "stdout",
     "output_type": "stream",
     "text": [
      "                            OLS Regression Results                            \n",
      "==============================================================================\n",
      "Dep. Variable:                    mpg   R-squared:                       0.689\n",
      "Model:                            OLS   Adj. R-squared:                  0.686\n",
      "Method:                 Least Squares   F-statistic:                     214.7\n",
      "Date:                Mon, 28 Nov 2016   Prob (F-statistic):           7.67e-97\n",
      "Time:                        10:48:54   Log-Likelihood:                -1132.1\n",
      "No. Observations:                 392   AIC:                             2274.\n",
      "Df Residuals:                     387   BIC:                             2294.\n",
      "Df Model:                           4                                         \n",
      "Covariance Type:            nonrobust                                         \n",
      "==============================================================================\n",
      "                 coef    std err          t      P>|t|      [95.0% Conf. Int.]\n",
      "------------------------------------------------------------------------------\n",
      "const         47.5677     11.960      3.977      0.000        24.053    71.082\n",
      "x1            -0.0767      0.431     -0.178      0.859        -0.925     0.771\n",
      "x2            -0.0043      0.005     -0.790      0.430        -0.015     0.006\n",
      "x3          3.245e-05   2.93e-05      1.109      0.268     -2.51e-05     9e-05\n",
      "x4          -6.53e-08    5.5e-08     -1.186      0.236     -1.74e-07  4.29e-08\n",
      "==============================================================================\n",
      "Omnibus:                       17.221   Durbin-Watson:                   1.090\n",
      "Prob(Omnibus):                  0.000   Jarque-Bera (JB):               33.332\n",
      "Skew:                           0.232   Prob(JB):                     5.78e-08\n",
      "Kurtosis:                       4.351   Cond. No.                     2.73e+10\n",
      "==============================================================================\n",
      "\n",
      "Warnings:\n",
      "[1] Standard Errors assume that the covariance matrix of the errors is correctly specified.\n",
      "[2] The condition number is large, 2.73e+10. This might indicate that there are\n",
      "strong multicollinearity or other numerical problems.\n"
     ]
    }
   ],
   "source": [
    "fit1 = sm.OLS(Auto.mpg, X4).fit() #in R: fit1 <- lm(mpg ~ poly(horsepower, 4, raw = TRUE), data=Auto)\n",
    "# alternatively, fit1 = sm.GLS(Auto.mpg, X4).fit()\n",
    "### when the power >= 6, the result is no longer the same as in R...\n",
    "### also different with sklearn\n",
    "# from sklearn.linear_model import LinearRegression\n",
    "# clf = LinearRegression()\n",
    "# clf.fit(PolynomialFeatures(4).fit_transform(Auto.horsepower.reshape(-1,1)), Auto.mpg.values)\n",
    "# clf.coef_\n",
    "print(fit1.summary())"
   ]
  },
  {
   "cell_type": "code",
   "execution_count": 83,
   "metadata": {
    "collapsed": false
   },
   "outputs": [],
   "source": [
    "# start fitting models\n",
    "np.random.seed(1)\n",
    "for run in np.arange(1, RUN+0.1, 1, dtype=np.int_):\n",
    "    train, test = sklearn.cross_validation.train_test_split(Auto, test_size=0.5) #random_state = 5 can be set\n",
    "    for i in np.arange(1, I+0.1, 1, dtype=np.int_):\n",
    "        fit = sm.OLS(train.mpg, PolynomialFeatures(i).fit_transform(train.horsepower.reshape(-1,1))).fit()\n",
    "        pred = fit.predict(PolynomialFeatures(i).fit_transform(test.horsepower.reshape(-1,1)))\n",
    "        mse = np.mean((test.mpg - pred)**2)\n",
    "        mse_validation.loc[(mse_validation['i'] == i) & (mse_validation['run'] == run), 'mse'] = mse"
   ]
  },
  {
   "cell_type": "code",
   "execution_count": 84,
   "metadata": {
    "collapsed": false
   },
   "outputs": [
    {
     "name": "stdout",
     "output_type": "stream",
     "text": [
      "       i   run        mse\n",
      "0    1.0   1.0  64.905503\n",
      "1    2.0   1.0  24.802121\n",
      "2    3.0   1.0  18.848293\n",
      "3    4.0   1.0  18.805111\n",
      "4    5.0   1.0  18.711722\n",
      "5    6.0   1.0  18.324156\n",
      "6    7.0   1.0  18.358696\n",
      "7    8.0   1.0  18.403110\n",
      "8    9.0   1.0  22.327910\n",
      "9   10.0   1.0  36.801380\n",
      "10   1.0   2.0  56.968271\n",
      "11   2.0   2.0  24.802121\n",
      "12   3.0   2.0  18.848293\n",
      "13   4.0   2.0  18.805111\n",
      "14   5.0   2.0  18.711722\n",
      "15   6.0   2.0  18.324156\n",
      "16   7.0   2.0  18.358696\n",
      "17   8.0   2.0  18.403110\n",
      "18   9.0   2.0  22.327910\n",
      "19  10.0   2.0  36.801380\n",
      "20   1.0   3.0  56.461312\n",
      "21   2.0   3.0  22.512987\n",
      "22   3.0   3.0  17.061527\n",
      "23   4.0   3.0  17.007559\n",
      "24   5.0   3.0  16.997017\n",
      "25   6.0   3.0  16.599761\n",
      "26   7.0   3.0  16.320615\n",
      "27   8.0   3.0  15.543748\n",
      "28   9.0   3.0  18.091184\n",
      "29  10.0   3.0  30.532577\n",
      "..   ...   ...        ...\n",
      "70   1.0   8.0  59.097090\n",
      "71   2.0   8.0  23.940968\n",
      "72   3.0   8.0  19.196850\n",
      "73   4.0   8.0  19.239148\n",
      "74   5.0   8.0  19.231892\n",
      "75   6.0   8.0  18.782736\n",
      "76   7.0   8.0  18.850151\n",
      "77   8.0   8.0  18.562600\n",
      "78   9.0   8.0  21.419989\n",
      "79  10.0   8.0  32.828070\n",
      "80   1.0   9.0  60.572282\n",
      "81   2.0   9.0  22.786805\n",
      "82   3.0   9.0  18.933614\n",
      "83   4.0   9.0  19.354314\n",
      "84   5.0   9.0  19.260512\n",
      "85   6.0   9.0  18.065290\n",
      "86   7.0   9.0  18.238266\n",
      "87   8.0   9.0  17.772521\n",
      "88   9.0   9.0  21.931291\n",
      "89  10.0   9.0  37.738857\n",
      "90   1.0  10.0  61.093604\n",
      "91   2.0  10.0  23.445772\n",
      "92   3.0  10.0  19.299329\n",
      "93   4.0  10.0  19.408415\n",
      "94   5.0  10.0  19.587226\n",
      "95   6.0  10.0  19.096910\n",
      "96   7.0  10.0  19.113469\n",
      "97   8.0  10.0  18.401797\n",
      "98   9.0  10.0  19.591190\n",
      "99  10.0  10.0  28.235966\n",
      "\n",
      "[100 rows x 3 columns]\n"
     ]
    }
   ],
   "source": [
    "print(mse_validation)"
   ]
  },
  {
   "cell_type": "code",
   "execution_count": 20,
   "metadata": {
    "collapsed": false
   },
   "outputs": [
    {
     "data": {
      "text/plain": [
       "<seaborn.axisgrid.FacetGrid at 0x11bc49e48>"
      ]
     },
     "execution_count": 20,
     "metadata": {},
     "output_type": "execute_result"
    },
    {
     "data": {
      "image/png": "[encoded data removed]",
      "text/plain": [
       "<matplotlib.figure.Figure at 0x11bc49da0>"
      ]
     },
     "metadata": {},
     "output_type": "display_data"
    }
   ],
   "source": [
    "# plot X and Y with seaborn\n",
    "# http://seaborn.pydata.org/generated/seaborn.FacetGrid.html\n",
    "g = sns.FacetGrid(mse_validation, hue='run', palette=\"Set1\", size = 7, ylim=(15, 40))\n",
    "g.map(plt.plot, 'i', 'mse').add_legend()"
   ]
  },
  {
   "cell_type": "code",
   "execution_count": null,
   "metadata": {
    "collapsed": true
   },
   "outputs": [],
   "source": [
    "#############################\n",
    "### Leave-One-Out Cross-Validation\n",
    "#############################"
   ]
  },
  {
   "cell_type": "code",
   "execution_count": 102,
   "metadata": {
    "collapsed": false
   },
   "outputs": [
    {
     "name": "stdout",
     "output_type": "stream",
     "text": [
      "TRAIN: [1 2 3 4 5 6 7 8 9] TEST: [0]\n",
      "TRAIN: [0 2 3 4 5 6 7 8 9] TEST: [1]\n",
      "TRAIN: [0 1 3 4 5 6 7 8 9] TEST: [2]\n",
      "TRAIN: [0 1 2 4 5 6 7 8 9] TEST: [3]\n",
      "TRAIN: [0 1 2 3 5 6 7 8 9] TEST: [4]\n",
      "TRAIN: [0 1 2 3 4 6 7 8 9] TEST: [5]\n",
      "TRAIN: [0 1 2 3 4 5 7 8 9] TEST: [6]\n",
      "TRAIN: [0 1 2 3 4 5 6 8 9] TEST: [7]\n",
      "TRAIN: [0 1 2 3 4 5 6 7 9] TEST: [8]\n",
      "TRAIN: [0 1 2 3 4 5 6 7 8] TEST: [9]\n"
     ]
    }
   ],
   "source": [
    "from sklearn.cross_validation import LeaveOneOut\n",
    "for train, test in LeaveOneOut(10): # split data into train/test groups, 10 times\n",
    "    print(\"TRAIN:\", train, \"TEST:\", test)"
   ]
  },
  {
   "cell_type": "code",
   "execution_count": 110,
   "metadata": {
    "collapsed": false
   },
   "outputs": [],
   "source": [
    "mse_LOOCV = pd.DataFrame({'i': np.arange(1, 10.1, 1, dtype=np.int_)})\n",
    "mse_LOOCV['mse'] = 0"
   ]
  },
  {
   "cell_type": "code",
   "execution_count": 112,
   "metadata": {
    "collapsed": false
   },
   "outputs": [],
   "source": [
    "I = 10\n",
    "np.random.seed(1)\n",
    "for i in np.arange(1, I+0.1, 1, dtype=np.int_):\n",
    "    error = 0\n",
    "    for train, test in LeaveOneOut(392): \n",
    "        fit = sm.OLS(Auto.mpg[train].values, PolynomialFeatures(i).fit_transform(Auto.horsepower[train].values.reshape(-1,1))).fit()\n",
    "        pred = fit.predict(PolynomialFeatures(i).fit_transform(Auto.horsepower[test].values.reshape(-1,1)))\n",
    "        error += np.sum((Auto.mpg[test].values - pred)**2)\n",
    "    mse = error / 392\n",
    "    mse_LOOCV.loc[(mse_LOOCV['i'] == i), 'mse'] = mse"
   ]
  },
  {
   "cell_type": "code",
   "execution_count": 114,
   "metadata": {
    "collapsed": false
   },
   "outputs": [
    {
     "name": "stdout",
     "output_type": "stream",
     "text": [
      "    i        mse\n",
      "0   1  24.231514\n",
      "1   2  19.248213\n",
      "2   3  19.334984\n",
      "3   4  19.424430\n",
      "4   5  19.033226\n",
      "5   6  19.002074\n",
      "6   7  18.996090\n",
      "7   8  23.214068\n",
      "8   9  38.918458\n",
      "9  10  76.042501\n"
     ]
    }
   ],
   "source": [
    "print(mse_LOOCV)"
   ]
  },
  {
   "cell_type": "code",
   "execution_count": 116,
   "metadata": {
    "collapsed": false
   },
   "outputs": [
    {
     "data": {
      "text/plain": [
       "<seaborn.axisgrid.FacetGrid at 0x11c2c1710>"
      ]
     },
     "execution_count": 116,
     "metadata": {},
     "output_type": "execute_result"
    },
    {
     "data": {
      "image/png": "[encoded data removed]",
      "text/plain": [
       "<matplotlib.figure.Figure at 0x11c2c1748>"
      ]
     },
     "metadata": {},
     "output_type": "display_data"
    }
   ],
   "source": [
    "# plot X and Y with seaborn\n",
    "# http://seaborn.pydata.org/generated/seaborn.FacetGrid.html\n",
    "g1 = sns.FacetGrid(mse_LOOCV, palette=\"Set1\", size = 7, ylim=(15, 40))\n",
    "g1.map(plt.plot, 'i', 'mse').add_legend()"
   ]
  },
  {
   "cell_type": "code",
   "execution_count": null,
   "metadata": {
    "collapsed": true
   },
   "outputs": [],
   "source": [
    "#############################\n",
    "### k-Fold Cross-Validation\n",
    "#############################"
   ]
  },
  {
   "cell_type": "code",
   "execution_count": 21,
   "metadata": {
    "collapsed": true
   },
   "outputs": [],
   "source": [
    "# prepare an empty data.frame to save the MSE for each *i* and *run*\n",
    "mse_kfold = pd.DataFrame({'i': i1, 'run': run1})\n",
    "mse_kfold['mse'] = 0"
   ]
  },
  {
   "cell_type": "code",
   "execution_count": 87,
   "metadata": {
    "collapsed": false
   },
   "outputs": [
    {
     "name": "stdout",
     "output_type": "stream",
     "text": [
      "TRAIN: [0 1 3 5 7 8] TEST: [2 4 6 9]\n",
      "TRAIN: [2 4 5 6 7 8 9] TEST: [0 1 3]\n",
      "TRAIN: [0 1 2 3 4 6 9] TEST: [5 7 8]\n"
     ]
    }
   ],
   "source": [
    "from sklearn.cross_validation import KFold\n",
    "for train, test in KFold(10, 3, shuffle=True): # split data into train/test groups, 10 times\n",
    "    print(\"TRAIN:\", train, \"TEST:\", test)"
   ]
  },
  {
   "cell_type": "code",
   "execution_count": 117,
   "metadata": {
    "collapsed": false
   },
   "outputs": [
    {
     "name": "stdout",
     "output_type": "stream",
     "text": [
      "true: [ 17.   15.   14.   27.   13.   26.   28.   23.   14.   19.   15.   16.\n",
      "  26.   18.   21.   29.   20.   17.5  20.   31.5  33.5  20.5  15.5  24.5\n",
      "  33.5  19.2  19.2  21.5  17.   18.5  41.5  43.4  32.4  30.   32.4  29.\n",
      "  38.   38.   22.   36. ] TEST: [ 11.5053056   -0.57244422  24.58033851  29.50171894  18.33953953\n",
      "  25.80811604  28.36829015  26.14930541  15.99386096  16.74279121\n",
      "  15.99386096  18.02827657  28.53582104  27.13216855  18.02827657\n",
      "  28.53582104  24.47843508  11.5053056   24.47843508  25.24066021\n",
      "  26.34624186  21.33201474  19.97221195  29.50171894  29.98972576\n",
      "  21.33201474  13.55992198  14.9239343    9.87215747  15.99386096\n",
      "  28.86287878  11.05245426  27.32720295  29.97829302  28.53582104\n",
      "  29.97829302  24.64581473  24.64581473  16.74279121  29.97829302] diff: [  5.49469440e+00   1.55724442e+01  -1.05803385e+01  -2.50171894e+00\n",
      "  -5.33953953e+00   1.91883962e-01  -3.68290146e-01  -3.14930541e+00\n",
      "  -1.99386096e+00   2.25720879e+00  -9.93860962e-01  -2.02827657e+00\n",
      "  -2.53582104e+00  -9.13216855e+00   2.97172343e+00   4.64178958e-01\n",
      "  -4.47843508e+00   5.99469440e+00  -4.47843508e+00   6.25933979e+00\n",
      "   7.15375814e+00  -8.32014742e-01  -4.47221195e+00  -5.00171894e+00\n",
      "   3.51027424e+00  -2.13201474e+00   5.64007802e+00   6.57606570e+00\n",
      "   7.12784253e+00   2.50613904e+00   1.26371212e+01   3.23475457e+01\n",
      "   5.07279705e+00   2.17069828e-02   3.86417896e+00  -9.78293017e-01\n",
      "   1.33541853e+01   1.33541853e+01   5.25720879e+00   6.02170698e+00] error: 2571.91703218\n",
      "true: [ 14.   14.   21.   26.   12.   13.   14.   17.   13.   13.   11.   18.\n",
      "  20.   19.   15.   18.   19.   28.   22.   22.5  19.   13.   15.5  36.1\n",
      "  19.9  20.5  19.2  31.9  35.7  28.8  33.5  28.   34.3  37.   29.8  27.2\n",
      "  37.   31.   38.   32. ] TEST: [ 20.75755955  24.06707581  30.10257629  15.99880359  14.49872445\n",
      "  21.49988521  18.37228997  16.42488381  16.42488381  18.00739805\n",
      "  16.42488381  24.48259659  11.42549693  24.48259659  17.92707794\n",
      "  26.19126032  29.14082185  29.99512703  24.48259659  29.14082185\n",
      "  29.65128145  16.42488381   4.74832693  20.1079988   17.92707794\n",
      "  27.19940723  10.50977803  27.0996345   29.98037068  14.7953665\n",
      "  29.14082185  29.14082185  29.6248705   28.4724811   21.55926034\n",
      "  30.16632279  23.61937249  25.48512415  30.10257629  30.16632279] diff: [ -6.75755955 -10.06707581  -9.10257629  10.00119641  -2.49872445\n",
      "  -8.49988521  -4.37228997   0.57511619  -3.42488381  -5.00739805\n",
      "  -5.42488381  -6.48259659   8.57450307  -5.48259659  -2.92707794\n",
      "  -8.19126032 -10.14082185  -1.99512703  -2.48259659  -6.64082185\n",
      " -10.65128145  -3.42488381  10.75167307  15.9920012    1.97292206\n",
      "  -6.69940723   8.69022197   4.8003655    5.71962932  14.0046335\n",
      "   4.35917815  -1.14082185   4.6751295    8.5275189    8.24073966\n",
      "  -2.96632279  13.38062751   5.51487585   7.89742371   1.83367721] error: 4783.81019277\n",
      "true: [ 15.   11.   14.   20.   13.   28.   12.   13.   13.   18.   20.   24.\n",
      "  31.   29.   16.   20.   24.   26.5  15.   26.   32.8  20.8  18.6  21.6\n",
      "  29.5  16.9  27.4  31.8  28.4  26.8  37.2  44.6  35.   34.1  33.   30.7\n",
      "  22.4  20.2  17.6] TEST: [ 16.19571456   6.47652081  17.70439693  29.23220666  11.55009811\n",
      "  30.00439564  -1.08024326  19.85048757  18.12681663  24.63149864\n",
      "  29.7290048   28.77131749  24.85147884  30.22954664  21.44171914\n",
      "  18.09307932  30.12333412  27.55407194   9.84643586  28.77131749\n",
      "  14.03492948  30.15963586  18.09307932  14.94738673  25.45115658\n",
      "  18.63930669  30.00439564  23.57737478  29.23220666  14.94738673\n",
      "  23.57737478  24.85147884  29.7290048   25.45115658  28.40298963\n",
      "  29.10046215  18.09307932  29.7290048   30.15963586] diff: [ -1.19571456   4.52347919  -3.70439693  -9.23220666   1.44990189\n",
      "  -2.00439564  13.08024326  -6.85048757  -5.12681663  -6.63149864\n",
      "  -9.7290048   -4.77131749   6.14852116  -1.22954664  -5.44171914\n",
      "   1.90692068  -6.12333412  -1.05407194   5.15356414  -2.77131749\n",
      "  18.76507052  -9.35963586   0.50692068   6.65261327   4.04884342\n",
      "  -1.73930669  -2.60439564   8.22262522  -0.83220666  11.85261327\n",
      "  13.62262522  19.74852116   5.2709952    8.64884342   4.59701037\n",
      "   1.59953785   4.30692068  -9.5290048  -12.55963586] error: 7150.07776321\n",
      "true: [ 18.   15.   24.   18.   27.   14.   30.   23.   19.   14.   15.   12.\n",
      "  19.   21.   11.   20.   16.   14.   24.   19.   24.   29.   23.   33.\n",
      "  14.5  29.5  16.   23.9  17.   34.1  23.9  29.9  28.1  26.6  36.   38.\n",
      "  36.   44.   31. ] TEST: [ 10.20673353   5.3769492   27.46742372  26.51650678  29.71695826\n",
      "  18.14012985  28.89053818  15.31273552  26.51650678  15.97492297\n",
      "  15.97492297  14.56903682  30.08713388  20.49599903  14.56903682\n",
      "  27.46742372  24.88960889  15.97492297  28.5509602   27.46742372\n",
      "  26.51650678  26.30858433  27.46742372  14.56669892  16.94102324\n",
      "  26.82473299  15.48768274  26.51650678  11.03180267  23.3088911\n",
      "  29.26330337  23.3088911   29.84630765  21.80167562  28.17323455\n",
      "  21.95133767  28.5509602   13.82691704  30.07203532] diff: [  7.79326647   9.6230508   -3.46742372  -8.51650678  -2.71695826\n",
      "  -4.14012985   1.10946182   7.68726448  -7.51650678  -1.97492297\n",
      "  -0.97492297  -2.56903682 -11.08713388   0.50400097  -3.56903682\n",
      "  -7.46742372  -8.88960889  -1.97492297  -4.5509602   -8.46742372\n",
      "  -2.51650678   2.69141567  -4.46742372  18.43330108  -2.44102324\n",
      "   2.67526701   0.51231726  -2.61650678   5.96819733  10.7911089\n",
      "  -5.36330337   6.5911089   -1.74630765   4.79832438   7.82676545\n",
      "  16.04866233   7.4490398   30.17308296   0.92796468] error: 9837.25478848\n",
      "true: [ 14.   26.    9.   25.   17.   13.   18.   22.   13.   18.   23.   21.\n",
      "  18.   13.   24.   16.   17.   24.   16.   19.   17.5  19.   16.   25.5\n",
      "  30.5  19.4  30.9  20.3  16.5  19.1  44.3  30.   23.7  39.1  32.3  24.\n",
      "  36.   27.   28. ] TEST: [ 22.7956066    9.71829977   2.93455831  27.64320643  25.02320319\n",
      "  20.43267946  18.57159089  30.23587633  18.27437735  29.93776266\n",
      "  27.64320643  27.54755951  29.47327722  16.00809479  26.67619699\n",
      "  20.43267946  18.57159089  27.17464474  16.00809479  19.89758604\n",
      "  18.57159089  25.02320319  14.66800023  29.72587544  29.69728204\n",
      "  11.59400368  28.79573272  23.18383031  10.99564782  29.47327722\n",
      "  11.07413735  24.80583429  25.02320319  18.48789929  24.80583429\n",
      "  28.85045687  26.54150089  29.47327722  29.91565348] diff: [ -8.79560660e+00   1.62817002e+01   6.06544169e+00  -2.64320643e+00\n",
      "  -8.02320319e+00  -7.43267946e+00  -5.71590886e-01  -8.23587633e+00\n",
      "  -5.27437735e+00  -1.19377627e+01  -4.64320643e+00  -6.54755951e+00\n",
      "  -1.14732772e+01  -3.00809479e+00  -2.67619699e+00  -4.43267946e+00\n",
      "  -1.57159089e+00  -3.17464474e+00  -8.09478652e-03  -8.97586036e-01\n",
      "  -1.07159089e+00  -6.02320319e+00   1.33199977e+00  -4.22587544e+00\n",
      "   8.02717963e-01   7.80599632e+00   2.10426728e+00  -2.88383031e+00\n",
      "   5.50435218e+00  -1.03732772e+01   3.32258627e+01   5.19416571e+00\n",
      "  -1.32320319e+00   2.06121007e+01   7.49416571e+00  -4.85045687e+00\n",
      "   9.45849911e+00  -2.47327722e+00  -1.91565348e+00] error: 12832.6397979\n",
      "true: [ 24.   19.   16.   19.   14.   22.   19.   18.   23.   35.   26.   15.\n",
      "  11.   13.   26.   26.   26.   14.   13.   23.   22.   18.5  13.   17.5\n",
      "  15.5  43.1  39.4  20.6  17.7  21.1  16.2  34.2  36.4  32.7  35.1  34.\n",
      "  36.   32.   32. ] TEST: [ 29.23565289  24.74643998  21.59786118  29.7094496   15.72108439\n",
      "  27.40243257  24.74643998  29.7094496   30.01725499  25.86193893\n",
      "  26.40693364  15.72108439   4.38905916   4.77553852   9.684086\n",
      "  29.23565289  29.90376885  14.73220428   9.91583243  29.52006601\n",
      "  25.87990622  18.27111643  15.72108439  13.30432697  13.30432697\n",
      "  11.0341668   26.40693364  21.59786118  20.7037116   27.38430729\n",
      "   9.85059131  26.40693364  24.68677262   9.80259041  19.89859021\n",
      "  29.7094496   29.7094496   24.68677262  26.91188045] diff: [ -5.23565289  -5.74643998  -5.59786118 -10.7094496   -1.72108439\n",
      "  -5.40243257  -5.74643998 -11.7094496   -7.01725499   9.13806107\n",
      "  -0.40693364  -0.72108439   6.61094084   8.22446148  16.315914\n",
      "  -3.23565289  -3.90376885  -0.73220428   3.08416757  -6.52006601\n",
      "  -3.87990622   0.22888357  -2.72108439   4.19567303   2.19567303\n",
      "  32.0658332   12.99306636  -0.99786118  -3.0037116   -6.28430729\n",
      "   6.34940869   7.79306636  11.71322738  22.89740959  15.20140979\n",
      "   4.2905504    6.2905504    7.31322738   5.08811955] error: 16253.094129\n",
      "true: [ 21.   27.   24.   16.   12.   15.   29.   20.   16.   14.   31.   25.\n",
      "  23.   25.   25.   27.   15.5  24.5  18.   20.   13.   13.   25.5  29.\n",
      "  20.2  23.8  18.2  25.4  23.   32.1  26.4  27.9  40.8  23.5  39.   37.7\n",
      "  25.4  31.   37. ] TEST: [ 29.2055189   19.97479774  27.30061737  24.60147516  20.93725003\n",
      "  12.97072507  11.78437933  28.89882565  10.90150729  10.90150729\n",
      "  13.96407759  26.99846922  29.69805766  30.07205676  28.5534864\n",
      "  30.18452402  12.10006121  19.97479774  29.57621472  23.35965602\n",
      "  12.97072507   9.38956275  26.81646566  29.57621472  10.5748166\n",
      "  30.12064825   9.63464564  29.32580641  10.23613901  26.48583961\n",
      "  29.69805766  21.38707712  23.49252655  17.99405352  22.82211112\n",
      "  21.42700428  14.19385625  30.12064825  25.36865515] diff: [ -8.2055189    7.02520226  -3.30061737  -8.60147516  -8.93725003\n",
      "   2.02927493  17.21562067  -8.89882565   5.09849271   3.09849271\n",
      "  17.03592241  -1.99846922  -6.69805766  -5.07205676  -3.5534864\n",
      "  -3.18452402   3.39993879   4.52520226 -11.57621472  -3.35965602\n",
      "   0.02927493   3.61043725  -1.31646566  -0.57621472   9.6251834\n",
      "  -6.32064825   8.56535436  -3.92580641  12.76386099   5.61416039\n",
      "  -3.29805766   6.51292288  17.30747345   5.50594648  16.17788888\n",
      "  16.27299572  11.20614375   0.87935175  11.63134485] error: 19116.9609365\n",
      "true: [ 18.   15.   25.   18.   31.   25.   21.   18.   21.   12.   18.   25.\n",
      "  26.   26.   31.   18.   15.   26.   22.   29.   17.5  32.   16.5  17.\n",
      "  21.5  25.1  18.1  18.1  17.5  23.2  17.6  34.5  37.3  46.6  34.7  34.4\n",
      "  31.6  34.   27. ] TEST: [ 15.69363891  20.14255865  29.85066125  24.76767111  23.34422951\n",
      "  29.84868344  29.97985181  17.03543967  29.85066125  23.11261488\n",
      "  21.6400645   28.57026474  24.61858849  28.22237523  24.61858849\n",
      "  21.6400645   27.33512897  29.67575931  21.6400645   13.85712534\n",
      "  27.38330552  26.33868219  14.50391666  18.33074733  18.33074733\n",
      "  29.67931745  12.56715975  11.00736331  11.31940231  21.6400645\n",
      "   9.97871156  26.33868219  25.79351642  23.34422951  21.98741602\n",
      "  23.34422951  28.19517575  26.33868219  29.97985181] diff: [  2.30636109  -5.14255865  -4.85066125  -6.76767111   7.65577049\n",
      "  -4.84868344  -8.97985181   0.96456033  -8.85066125 -11.11261488\n",
      "  -3.6400645   -3.57026474   1.38141151  -2.22237523   6.38141151\n",
      "  -3.6400645  -12.33512897  -3.67575931   0.3599355   15.14287466\n",
      "  -9.88330552   5.66131781   1.99608334  -1.33074733   3.16925267\n",
      "  -4.57931745   5.53284025   7.09263669   6.18059769   1.5599355\n",
      "   7.62128844   8.16131781  11.50648358  23.25577049  12.71258398\n",
      "  11.05577049   3.40482425   7.66131781  -2.97985181] error: 21514.4688856\n",
      "true: [ 16.   22.   10.   10.   13.   28.   14.   14.   22.   27.   14.   13.\n",
      "  22.   15.   14.   32.   15.   15.   23.   29.   33.   18.5  22.   36.1\n",
      "  27.5  27.2  19.8  22.3  20.6  15.5  27.2  38.1  33.8  25.8  33.7  28.\n",
      "  27.   25.   26. ] TEST: [  1.61695954e+01   2.75182289e+01   1.68841823e+01   6.81589288e-03\n",
      "   1.82603391e+01   2.93908243e+01   1.76523201e+01   1.61695954e+01\n",
      "   2.91620864e+01   2.98726279e+01   1.07535297e+01   2.05139086e+01\n",
      "   2.79631961e+01   2.48605012e+01   1.61695954e+01   2.07924409e+01\n",
      "   2.75942229e+01   1.37029947e+01   3.03366202e+01   2.65963960e+01\n",
      "   1.47721592e+01   2.60014805e+01   2.65352895e+01   2.42413569e+01\n",
      "   2.75182289e+01   2.65352895e+01   3.02810685e+01   2.98726279e+01\n",
      "   1.83660254e+01   1.23908098e+01   2.71118206e+01   2.00575330e+01\n",
      "   2.48702002e+01   2.87507179e+01   2.88272305e+01   2.98726279e+01\n",
      "   2.98726279e+01   1.83660254e+01   2.87507179e+01] diff: [ -0.16959539  -5.51822888  -6.88418232   9.99318411  -5.26033913\n",
      "  -1.39082432  -3.65232005  -2.16959539  -7.16208642  -2.87262788\n",
      "   3.24647032  -7.51390855  -5.9631961   -9.86050117  -2.16959539\n",
      "  11.20755907 -12.59422288   1.29700534  -7.33662016   2.40360403\n",
      "  18.22784083  -7.50148052  -4.53528948  11.85864308  -0.01822888\n",
      "   0.66471052 -10.48106853  -7.57262788   2.23397463   3.10919023\n",
      "   0.08817942  18.04246701   8.92979983  -2.95071794   4.87276949\n",
      "  -1.87262788  -2.87262788   6.63397463  -2.75071794] error: 23582.4930563\n",
      "true: [ 15.   14.   25.   28.   14.   30.   12.   15.   13.   13.   16.   24.\n",
      "  32.   18.   26.   28.   16.   25.   28.   16.5  30.   36.   30.5  30.\n",
      "  21.5  20.2  20.5  19.4  30.   31.5  20.2  24.3  29.8  31.3  32.2  26.6\n",
      "  32.9  24.2  27. ] TEST: [ 21.12770546  24.65188495  26.82761056  29.02215314  21.12770546\n",
      "  27.29000174  20.95061999  17.20050143   9.81970815  14.61809784\n",
      " -54.28726787  17.1403821   24.37721855  20.54445553  30.08565711\n",
      "  29.3445872   17.20050143  14.06186969  29.3445872   11.65467451\n",
      "  30.35828095  19.35003688  23.02701444  25.63031702  17.1403821\n",
      "  30.24356811  23.8959454   29.02215314  26.21493503  27.77662518\n",
      "  29.02215314  29.02215314  29.02215314  29.3445872   29.3445872\n",
      "  30.35737102  23.8959454   11.65467451  29.02215314] diff: [ -6.12770546 -10.65188495  -1.82761056  -1.02215314  -7.12770546\n",
      "   2.70999826  -8.95061999  -2.20050143   3.18029185  -1.61809784\n",
      "  70.28726787   6.8596179    7.62278145  -2.54445553  -4.08565711\n",
      "  -1.3445872   -1.20050143  10.93813031  -1.3445872    4.84532549\n",
      "  -0.35828095  16.64996312   7.47298556   4.36968298   4.3596179\n",
      " -10.04356811  -3.3959454   -9.62215314   3.78506497   3.72337482\n",
      "  -8.82215314  -4.72215314   0.77784686   1.9554128    2.8554128\n",
      "  -3.75737102   9.0040546   12.54532549  -2.02215314] error: 30084.3845885\n"
     ]
    }
   ],
   "source": [
    "error = 0\n",
    "d = 10\n",
    "for train, test in KFold(392, n_folds, shuffle=True): # split data into train/test groups, 10 times\n",
    "    fit = sm.OLS(Auto.mpg[train].values, PolynomialFeatures(d).fit_transform(Auto.horsepower[train].values.reshape(-1,1))).fit()\n",
    "    pred = fit.predict(PolynomialFeatures(d).fit_transform(Auto.horsepower[test].values.reshape(-1,1)))\n",
    "    diff = Auto.mpg[test].values - pred\n",
    "    error += np.sum((Auto.mpg[test].values - pred)**2)\n",
    "    print(\"true:\", Auto.mpg[test].values, \"TEST:\", pred, \"diff:\", diff, \"error:\", error)"
   ]
  },
  {
   "cell_type": "code",
   "execution_count": 118,
   "metadata": {
    "collapsed": false
   },
   "outputs": [
    {
     "data": {
      "text/plain": [
       "76.745879052182502"
      ]
     },
     "execution_count": 118,
     "metadata": {},
     "output_type": "execute_result"
    }
   ],
   "source": [
    "error/392"
   ]
  },
  {
   "cell_type": "code",
   "execution_count": 96,
   "metadata": {
    "collapsed": false
   },
   "outputs": [],
   "source": [
    "n_folds=10\n",
    "I = 10\n",
    "RUN = 10\n",
    "np.random.seed(1)\n",
    "for run in np.arange(1, RUN+0.1, 1, dtype=np.int_):\n",
    "    for i in np.arange(1, I+0.1, 1, dtype=np.int_):\n",
    "        error = 0\n",
    "        for train, test in KFold(392, n_folds, shuffle=True): # split data into train/test groups, 10 times\n",
    "            fit = sm.OLS(Auto.mpg[train].values, PolynomialFeatures(i).fit_transform(Auto.horsepower[train].values.reshape(-1,1))).fit()\n",
    "            pred = fit.predict(PolynomialFeatures(i).fit_transform(Auto.horsepower[test].values.reshape(-1,1)))\n",
    "            error += np.sum((Auto.mpg[test].values - pred)**2)\n",
    "        mse = error / 392\n",
    "        mse_kfold.loc[(mse_validation['i'] == i) & (mse_validation['run'] == run), 'mse'] = mse"
   ]
  },
  {
   "cell_type": "code",
   "execution_count": 120,
   "metadata": {
    "collapsed": false,
    "scrolled": false
   },
   "outputs": [
    {
     "name": "stdout",
     "output_type": "stream",
     "text": [
      "       i   run        mse\n",
      "0    1.0   1.0  24.117453\n",
      "1    2.0   1.0  19.333658\n",
      "2    3.0   1.0  19.292331\n",
      "3    4.0   1.0  19.716811\n",
      "4    5.0   1.0  19.068518\n",
      "5    6.0   1.0  19.056573\n",
      "6    7.0   1.0  18.876307\n",
      "7    8.0   1.0  23.266822\n",
      "8    9.0   1.0  38.325564\n",
      "9   10.0   1.0  94.024512\n",
      "10   1.0   2.0  24.127702\n",
      "11   2.0   2.0  19.262550\n",
      "12   3.0   2.0  19.310451\n",
      "13   4.0   2.0  19.318884\n",
      "14   5.0   2.0  19.173792\n",
      "15   6.0   2.0  18.797254\n",
      "16   7.0   2.0  19.003275\n",
      "17   8.0   2.0  23.360838\n",
      "18   9.0   2.0  38.565522\n",
      "19  10.0   2.0  92.812087\n",
      "20   1.0   3.0  24.484797\n",
      "21   2.0   3.0  19.225584\n",
      "22   3.0   3.0  19.437055\n",
      "23   4.0   3.0  19.459182\n",
      "24   5.0   3.0  19.145379\n",
      "25   6.0   3.0  19.130318\n",
      "26   7.0   3.0  19.317135\n",
      "27   8.0   3.0  23.129467\n",
      "28   9.0   3.0  38.741281\n",
      "29  10.0   3.0  75.839731\n",
      "..   ...   ...        ...\n",
      "70   1.0   8.0  24.215683\n",
      "71   2.0   8.0  19.288991\n",
      "72   3.0   8.0  19.375572\n",
      "73   4.0   8.0  19.328959\n",
      "74   5.0   8.0  19.248091\n",
      "75   6.0   8.0  18.919451\n",
      "76   7.0   8.0  18.967838\n",
      "77   8.0   8.0  23.259461\n",
      "78   9.0   8.0  38.572323\n",
      "79  10.0   8.0  85.995759\n",
      "80   1.0   9.0  24.140486\n",
      "81   2.0   9.0  19.235102\n",
      "82   3.0   9.0  19.647628\n",
      "83   4.0   9.0  19.387797\n",
      "84   5.0   9.0  18.925926\n",
      "85   6.0   9.0  18.745494\n",
      "86   7.0   9.0  19.105498\n",
      "87   8.0   9.0  23.475177\n",
      "88   9.0   9.0  38.826846\n",
      "89  10.0   9.0  76.390110\n",
      "90   1.0  10.0  24.201049\n",
      "91   2.0  10.0  19.223686\n",
      "92   3.0  10.0  19.326880\n",
      "93   4.0  10.0  19.515203\n",
      "94   5.0  10.0  19.436488\n",
      "95   6.0  10.0  19.117823\n",
      "96   7.0  10.0  19.034535\n",
      "97   8.0  10.0  23.127421\n",
      "98   9.0  10.0  39.095193\n",
      "99  10.0  10.0  76.605468\n",
      "\n",
      "[100 rows x 3 columns]\n"
     ]
    }
   ],
   "source": [
    "print(mse_kfold)"
   ]
  },
  {
   "cell_type": "code",
   "execution_count": 98,
   "metadata": {
    "collapsed": false,
    "scrolled": false
   },
   "outputs": [
    {
     "data": {
      "text/plain": [
       "<seaborn.axisgrid.FacetGrid at 0x11c0b8588>"
      ]
     },
     "execution_count": 98,
     "metadata": {},
     "output_type": "execute_result"
    },
    {
     "data": {
      "image/png": "[encoded data removed]",
      "text/plain": [
       "<matplotlib.figure.Figure at 0x11c0b8908>"
      ]
     },
     "metadata": {},
     "output_type": "display_data"
    }
   ],
   "source": [
    "# plot X and Y with seaborn\n",
    "# http://seaborn.pydata.org/generated/seaborn.FacetGrid.html\n",
    "g1 = sns.FacetGrid(mse_kfold, hue='run', palette=\"Set1\", size = 7, ylim=(15, 40))\n",
    "g1.map(plt.plot, 'i', 'mse').add_legend()"
   ]
  }
 ],
 "metadata": {
  "anaconda-cloud": {},
  "kernelspec": {
   "display_name": "Python [Root]",
   "language": "python",
   "name": "Python [Root]"
  },
  "language_info": {
   "codemirror_mode": {
    "name": "ipython",
    "version": 3
   },
   "file_extension": ".py",
   "mimetype": "text/x-python",
   "name": "python",
   "nbconvert_exporter": "python",
   "pygments_lexer": "ipython3",
   "version": "3.5.2"
  }
 },
 "nbformat": 4,
 "nbformat_minor": 0
}
