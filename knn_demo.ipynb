{
 "cells": [
  {
   "cell_type": "code",
   "execution_count": 1,
   "metadata": {
    "collapsed": true
   },
   "outputs": [],
   "source": [
    "#############################\n",
    "### Generating data\n",
    "# Simulate a 3rd-order polynomial data\n",
    "# y = beta0 + beta1 * x + beta2 * x**2 + beta3 * x**3 + epsilon\n",
    "# epsilon ~ N(0, sigma^2)\n",
    "#############################"
   ]
  },
  {
   "cell_type": "code",
   "execution_count": 2,
   "metadata": {
    "collapsed": true
   },
   "outputs": [],
   "source": [
    "## population parameters\n",
    "beta0 = 1\n",
    "beta1 = -2\n",
    "beta2 = 6\n",
    "beta3 = -1\n",
    "sigma = 2"
   ]
  },
  {
   "cell_type": "code",
   "execution_count": 3,
   "metadata": {
    "collapsed": true
   },
   "outputs": [],
   "source": [
    "import numpy as np"
   ]
  },
  {
   "cell_type": "code",
   "execution_count": 4,
   "metadata": {
    "collapsed": false
   },
   "outputs": [
    {
     "name": "stdout",
     "output_type": "stream",
     "text": [
      "100\n",
      "(100,)\n"
     ]
    }
   ],
   "source": [
    "## training data\n",
    "x = np.arange(0, 4.96, 0.05)\n",
    "print(x.size)\n",
    "print(x.shape)"
   ]
  },
  {
   "cell_type": "code",
   "execution_count": 5,
   "metadata": {
    "collapsed": false
   },
   "outputs": [],
   "source": [
    "f_x = beta0 + beta1 * x + beta2 * x**2 + beta3 * x**3"
   ]
  },
  {
   "cell_type": "code",
   "execution_count": 6,
   "metadata": {
    "collapsed": false
   },
   "outputs": [
    {
     "name": "stdout",
     "output_type": "stream",
     "text": [
      "100\n",
      "(100,)\n"
     ]
    }
   ],
   "source": [
    "# Add noise to targets\n",
    "# sigma * np.random.randn(...) + mu or np.random.normal(mu, sigma, 1000)\n",
    "np.random.seed(10)\n",
    "epsilon = np.random.normal(0, 2, 100)\n",
    "y = f_x + epsilon\n",
    "print(y.size)\n",
    "print(y.shape)"
   ]
  },
  {
   "cell_type": "code",
   "execution_count": 7,
   "metadata": {
    "collapsed": false
   },
   "outputs": [
    {
     "data": {
      "image/png": "[encoded data removed]",
      "text/plain": [
       "<matplotlib.figure.Figure at 0x1092103c8>"
      ]
     },
     "metadata": {},
     "output_type": "display_data"
    }
   ],
   "source": [
    "# visualize the training data (x, y) and the true model f_x\n",
    "import matplotlib.pyplot as plt\n",
    "#show the plot in current web page\n",
    "%matplotlib inline \n",
    "plt.scatter(x, y, c='k', label='training data')\n",
    "plt.plot(x, f_x, c='g', label='true model')\n",
    "plt.axis('tight')\n",
    "plt.legend()\n",
    "#plt.title(\"KNeighborsRegressor (k = %i, weights = '%s')\" % (n_neighbors,\n",
    " #                                                               weights))\n",
    "\n",
    "plt.show()"
   ]
  },
  {
   "cell_type": "code",
   "execution_count": 8,
   "metadata": {
    "collapsed": false
   },
   "outputs": [
    {
     "data": {
      "text/plain": [
       "(51,)"
      ]
     },
     "execution_count": 8,
     "metadata": {},
     "output_type": "execute_result"
    }
   ],
   "source": [
    "## test data\n",
    "x_test = np.arange(0, 5.01, 0.1)\n",
    "f_x_test = beta0 + beta1 * x_test + beta2 * x_test**2 + beta3 * x_test**3\n",
    "np.random.seed(10)\n",
    "epsilon_test = np.random.normal(0, sigma, x_test.size)\n",
    "y_test = f_x_test + epsilon_test\n",
    "x_test.shape"
   ]
  },
  {
   "cell_type": "code",
   "execution_count": 9,
   "metadata": {
    "collapsed": false
   },
   "outputs": [
    {
     "data": {
      "image/png": "[encoded data removed]",
      "text/plain": [
       "<matplotlib.figure.Figure at 0x109e81ba8>"
      ]
     },
     "metadata": {},
     "output_type": "display_data"
    }
   ],
   "source": [
    "# visualize the test data (x, y) and the true model f_x\n",
    "plt.scatter(x_test, y_test, c='k', label='test data')\n",
    "plt.plot(x_test, f_x_test, c='g', label='true model')\n",
    "plt.axis('tight')\n",
    "plt.legend()\n",
    "#plt.title(\"KNeighborsRegressor (k = %i, weights = '%s')\" % (n_neighbors,\n",
    " #                                                               weights))\n",
    "\n",
    "plt.show()"
   ]
  },
  {
   "cell_type": "code",
   "execution_count": 10,
   "metadata": {
    "collapsed": true
   },
   "outputs": [],
   "source": [
    "#############################\n",
    "### KNN regression\n",
    "#############################"
   ]
  },
  {
   "cell_type": "code",
   "execution_count": 11,
   "metadata": {
    "collapsed": true
   },
   "outputs": [],
   "source": [
    "# knn regression is in package \"sklearn\" \n",
    "from sklearn import neighbors\n",
    "?neighbors.KNeighborsRegressor"
   ]
  },
  {
   "cell_type": "code",
   "execution_count": 12,
   "metadata": {
    "collapsed": false
   },
   "outputs": [],
   "source": [
    "# prepare the X data in the matrix format, as required by scikit\n",
    "x = x.reshape(100,1)\n",
    "y = y.reshape(100,1)\n",
    "x_test = x_test.reshape(51,1)\n",
    "y_test = y_test.reshape(51,1)"
   ]
  },
  {
   "cell_type": "code",
   "execution_count": 13,
   "metadata": {
    "collapsed": false
   },
   "outputs": [],
   "source": [
    "## 1. k=15, training MSE\n",
    "knn15 = neighbors.KNeighborsRegressor(15, weights='uniform')\n",
    "knn15train = knn15.fit(x, y).predict(x)"
   ]
  },
  {
   "cell_type": "code",
   "execution_count": 14,
   "metadata": {
    "collapsed": false
   },
   "outputs": [
    {
     "data": {
      "image/png": "[encoded data removed]",
      "text/plain": [
       "<matplotlib.figure.Figure at 0x111bef588>"
      ]
     },
     "metadata": {},
     "output_type": "display_data"
    }
   ],
   "source": [
    "# plot the fit\n",
    "plt.scatter(x, y, c='k', label='training data')\n",
    "plt.plot(x, f_x, c='g', label='true model')\n",
    "plt.plot(x, knn15train, c='b', label='knn pred')\n",
    "plt.axis('tight')\n",
    "plt.legend()\n",
    "#plt.title(\"KNeighborsRegressor (k = %i, weights = '%s')\" % (n_neighbors,\n",
    " #                                                               weights))\n",
    "\n",
    "plt.show()"
   ]
  },
  {
   "cell_type": "code",
   "execution_count": 15,
   "metadata": {
    "collapsed": false
   },
   "outputs": [
    {
     "data": {
      "text/plain": [
       "4.1457687777301837"
      ]
     },
     "execution_count": 15,
     "metadata": {},
     "output_type": "execute_result"
    }
   ],
   "source": [
    "# Training MSE\n",
    "np.mean((y - knn15train)**2)"
   ]
  },
  {
   "cell_type": "code",
   "execution_count": 16,
   "metadata": {
    "collapsed": true
   },
   "outputs": [],
   "source": [
    "## 1b. k=15, test MSE\n",
    "knn15test = knn15.fit(x, y).predict(x_test)"
   ]
  },
  {
   "cell_type": "code",
   "execution_count": 17,
   "metadata": {
    "collapsed": false
   },
   "outputs": [
    {
     "data": {
      "image/png": "[encoded data removed]",
      "text/plain": [
       "<matplotlib.figure.Figure at 0x111bef1d0>"
      ]
     },
     "metadata": {},
     "output_type": "display_data"
    }
   ],
   "source": [
    "# plot the fit\n",
    "plt.scatter(x_test, y_test, c='k', label='test data')\n",
    "plt.plot(x_test, f_x_test, c='g', label='true model')\n",
    "plt.plot(x_test, knn15test, c='b', label='knn test data')\n",
    "plt.axis('tight')\n",
    "plt.legend()\n",
    "#plt.title(\"KNeighborsRegressor (k = %i, weights = '%s')\" % (n_neighbors,\n",
    " #                                                               weights))\n",
    "\n",
    "plt.show()"
   ]
  },
  {
   "cell_type": "code",
   "execution_count": 18,
   "metadata": {
    "collapsed": false
   },
   "outputs": [
    {
     "data": {
      "text/plain": [
       "3.728569200464352"
      ]
     },
     "execution_count": 18,
     "metadata": {},
     "output_type": "execute_result"
    }
   ],
   "source": [
    "# Test MSE\n",
    "np.mean((y_test - knn15test)**2)"
   ]
  },
  {
   "cell_type": "code",
   "execution_count": 19,
   "metadata": {
    "collapsed": false
   },
   "outputs": [],
   "source": [
    "## 2. Training and Test Error plot: to enumerate many many k values and measure MSE\n",
    "# k's that will be evaluated\n",
    "ks = np.arange(1, 30.1, 1, dtype=np.int_)\n",
    "# construct empty vectors for keeping the MSE for each k\n",
    "mse_train = np.zeros(ks.size,)\n",
    "mse_test = np.zeros(ks.size,)"
   ]
  },
  {
   "cell_type": "code",
   "execution_count": 20,
   "metadata": {
    "collapsed": false
   },
   "outputs": [],
   "source": [
    "# loop over all the k and evaluate MSE in each of them\n",
    "for i in ks:\n",
    "    knnen = neighbors.KNeighborsRegressor(ks[i-1], weights='uniform')\n",
    "    model_train = knnen.fit(x, y).predict(x)\n",
    "    model_test = knnen.fit(x, y).predict(x_test)\n",
    "    mse_train[i-1] = np.mean((y - model_train)**2)\n",
    "    mse_test[i-1] = np.mean((y_test - model_test)**2)"
   ]
  },
  {
   "cell_type": "code",
   "execution_count": 21,
   "metadata": {
    "collapsed": false
   },
   "outputs": [
    {
     "name": "stdout",
     "output_type": "stream",
     "text": [
      "[ 0.          1.50512232  2.68362151  2.83316916  3.20898679  3.27738131\n",
      "  3.53366953  3.45380368  3.66562691  3.86400619  3.96953852  4.05703648\n",
      "  4.09803367  4.03693291  4.14576878  4.21637922  4.42894637  4.32644125\n",
      "  4.58163814  4.70085531  4.776152    4.80701368  4.91128354  5.05281428\n",
      "  5.2967779   5.39083281  5.65263615  5.79507561  5.99692187  6.10608193]\n",
      "[ 7.53474101  4.53358383  3.89914038  3.74163367  3.22867489  3.28707636\n",
      "  3.27726864  3.41172327  3.36455895  3.60904696  3.40379111  3.49512688\n",
      "  3.69627319  3.79769747  3.7285692   3.69027109  3.88012171  3.8724891\n",
      "  4.20513889  4.35940149  4.39822204  4.3867645   4.60153622  4.69345191\n",
      "  4.86634447  5.08677029  5.41724697  5.55852995  5.81469639  6.06564537]\n"
     ]
    }
   ],
   "source": [
    "print(mse_train)\n",
    "print(mse_test)"
   ]
  },
  {
   "cell_type": "code",
   "execution_count": 22,
   "metadata": {
    "collapsed": false
   },
   "outputs": [
    {
     "name": "stdout",
     "output_type": "stream",
     "text": [
      "5\n",
      "3.22867489016\n"
     ]
    }
   ],
   "source": [
    "# optimal k\n",
    "k_opt = ks[np.argmin(mse_test)]\n",
    "print(k_opt)\n",
    "# optimal MSE\n",
    "mse_opt = np.min(mse_test)\n",
    "print(mse_opt)"
   ]
  },
  {
   "cell_type": "code",
   "execution_count": 23,
   "metadata": {
    "collapsed": false
   },
   "outputs": [
    {
     "data": {
      "image/png": "[encoded data removed]",
      "text/plain": [
       "<matplotlib.figure.Figure at 0x10f69ff60>"
      ]
     },
     "metadata": {},
     "output_type": "display_data"
    }
   ],
   "source": [
    "# plot MSE on Training and Test\n",
    "plt.plot(ks, mse_train, c='r', label='train')\n",
    "plt.scatter(ks, mse_train)\n",
    "plt.plot(ks, mse_test, c='b', label='test')\n",
    "plt.scatter(ks, mse_test)\n",
    "plt.axis('tight')\n",
    "plt.axhline(y=sigma**2, linestyle='dashed', color='k')\n",
    "plt.legend()\n",
    "#plt.title(\"KNeighborsRegressor (k = %i, weights = '%s')\" % (n_neighbors,\n",
    " #                                                               weights))\n",
    "plt.gca().set_xlim([0,30])\n",
    "plt.gca().invert_xaxis()\n",
    "plt.show()"
   ]
  }
 ],
 "metadata": {
  "anaconda-cloud": {},
  "kernelspec": {
   "display_name": "Python [Root]",
   "language": "python",
   "name": "Python [Root]"
  },
  "language_info": {
   "codemirror_mode": {
    "name": "ipython",
    "version": 3
   },
   "file_extension": ".py",
   "mimetype": "text/x-python",
   "name": "python",
   "nbconvert_exporter": "python",
   "pygments_lexer": "ipython3",
   "version": "3.5.2"
  }
 },
 "nbformat": 4,
 "nbformat_minor": 0
}
