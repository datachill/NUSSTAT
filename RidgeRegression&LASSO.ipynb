{
 "cells": [
  {
   "cell_type": "code",
   "execution_count": null,
   "metadata": {
    "collapsed": true
   },
   "outputs": [],
   "source": [
    "##########################################################\n",
    "# DSC5103 Statistics\n",
    "# Session 8. Regularization in Regression\n",
    "# 2016.11\n",
    "##########################################################"
   ]
  },
  {
   "cell_type": "code",
   "execution_count": 1,
   "metadata": {
    "collapsed": false
   },
   "outputs": [],
   "source": [
    "%matplotlib inline\n",
    "\n",
    "import pandas as pd\n",
    "import numpy as np\n",
    "import matplotlib.pyplot as plt\n",
    "\n",
    "from sklearn.preprocessing import scale \n",
    "from sklearn import cross_validation\n",
    "from sklearn.linear_model import Ridge, RidgeCV, Lasso, LassoCV, ElasticNet, ElasticNetCV\n",
    "from sklearn.metrics import mean_squared_error"
   ]
  },
  {
   "cell_type": "code",
   "execution_count": 2,
   "metadata": {
    "collapsed": false
   },
   "outputs": [
    {
     "name": "stdout",
     "output_type": "stream",
     "text": [
      "<class 'pandas.core.frame.DataFrame'>\n",
      "Int64Index: 263 entries, 1 to 321\n",
      "Data columns (total 20 columns):\n",
      "AtBat        263 non-null int64\n",
      "Hits         263 non-null int64\n",
      "HmRun        263 non-null int64\n",
      "Runs         263 non-null int64\n",
      "RBI          263 non-null int64\n",
      "Walks        263 non-null int64\n",
      "Years        263 non-null int64\n",
      "CAtBat       263 non-null int64\n",
      "CHits        263 non-null int64\n",
      "CHmRun       263 non-null int64\n",
      "CRuns        263 non-null int64\n",
      "CRBI         263 non-null int64\n",
      "CWalks       263 non-null int64\n",
      "League       263 non-null object\n",
      "Division     263 non-null object\n",
      "PutOuts      263 non-null int64\n",
      "Assists      263 non-null int64\n",
      "Errors       263 non-null int64\n",
      "Salary       263 non-null float64\n",
      "NewLeague    263 non-null object\n",
      "dtypes: float64(1), int64(16), object(3)\n",
      "memory usage: 43.1+ KB\n"
     ]
    }
   ],
   "source": [
    "## remove na values\n",
    "df = pd.read_csv('Hitters.csv').dropna().drop('Player', axis=1)\n",
    "df.info()"
   ]
  },
  {
   "cell_type": "code",
   "execution_count": 3,
   "metadata": {
    "collapsed": false
   },
   "outputs": [
    {
     "name": "stdout",
     "output_type": "stream",
     "text": [
      "<class 'pandas.core.frame.DataFrame'>\n",
      "Int64Index: 263 entries, 1 to 321\n",
      "Data columns (total 19 columns):\n",
      "League[T.N]       263 non-null float64\n",
      "Division[T.W]     263 non-null float64\n",
      "NewLeague[T.N]    263 non-null float64\n",
      "AtBat             263 non-null float64\n",
      "Hits              263 non-null float64\n",
      "HmRun             263 non-null float64\n",
      "Runs              263 non-null float64\n",
      "RBI               263 non-null float64\n",
      "Walks             263 non-null float64\n",
      "Years             263 non-null float64\n",
      "CAtBat            263 non-null float64\n",
      "CHits             263 non-null float64\n",
      "CHmRun            263 non-null float64\n",
      "CRuns             263 non-null float64\n",
      "CRBI              263 non-null float64\n",
      "CWalks            263 non-null float64\n",
      "PutOuts           263 non-null float64\n",
      "Assists           263 non-null float64\n",
      "Errors            263 non-null float64\n",
      "dtypes: float64(19)\n",
      "memory usage: 41.1 KB\n"
     ]
    }
   ],
   "source": [
    "## patsy.dmatrices is a handy function that converts data from formula form into matrix form\n",
    "import patsy\n",
    "f = 'Salary ~ AtBat+Hits+HmRun+Runs+RBI+Walks+Years+CAtBat+CHits+CHmRun+CRuns+CRBI+CWalks+League+Division+PutOuts+Assists+Errors+NewLeague'\n",
    "y,X_ = patsy.dmatrices(f, df, return_type='dataframe') \n",
    "y = y.Salary\n",
    "X = X_.drop(['Intercept'], axis=1)\n",
    "X.info()\n",
    "\n",
    "# alternatively, we can manually create the matrix\n",
    "# dummies = pd.get_dummies(df[['League', 'Division', 'NewLeague']])\n",
    "# y = df.Salary\n",
    "# Drop the column with the independent variable (Salary), and columns for which we created dummy variables\n",
    "# X_ = df.drop(['Salary', 'League', 'Division', 'NewLeague'], axis=1).astype('float64')\n",
    "# Define the feature set X.\n",
    "# X = pd.concat([X_, dummies[['League_N', 'Division_W', 'NewLeague_N']]], axis=1)\n",
    "# X.info()"
   ]
  },
  {
   "cell_type": "code",
   "execution_count": 4,
   "metadata": {
    "collapsed": false
   },
   "outputs": [
    {
     "data": {
      "text/plain": [
       "array([  5.00000000e+09,   3.78231664e+09,   2.86118383e+09,\n",
       "         2.16438064e+09,   1.63727458e+09,   1.23853818e+09,\n",
       "         9.36908711e+08,   7.08737081e+08,   5.36133611e+08,\n",
       "         4.05565415e+08,   3.06795364e+08,   2.32079442e+08,\n",
       "         1.75559587e+08,   1.32804389e+08,   1.00461650e+08,\n",
       "         7.59955541e+07,   5.74878498e+07,   4.34874501e+07,\n",
       "         3.28966612e+07,   2.48851178e+07,   1.88246790e+07,\n",
       "         1.42401793e+07,   1.07721735e+07,   8.14875417e+06,\n",
       "         6.16423370e+06,   4.66301673e+06,   3.52740116e+06,\n",
       "         2.66834962e+06,   2.01850863e+06,   1.52692775e+06,\n",
       "         1.15506485e+06,   8.73764200e+05,   6.60970574e+05,\n",
       "         5.00000000e+05,   3.78231664e+05,   2.86118383e+05,\n",
       "         2.16438064e+05,   1.63727458e+05,   1.23853818e+05,\n",
       "         9.36908711e+04,   7.08737081e+04,   5.36133611e+04,\n",
       "         4.05565415e+04,   3.06795364e+04,   2.32079442e+04,\n",
       "         1.75559587e+04,   1.32804389e+04,   1.00461650e+04,\n",
       "         7.59955541e+03,   5.74878498e+03,   4.34874501e+03,\n",
       "         3.28966612e+03,   2.48851178e+03,   1.88246790e+03,\n",
       "         1.42401793e+03,   1.07721735e+03,   8.14875417e+02,\n",
       "         6.16423370e+02,   4.66301673e+02,   3.52740116e+02,\n",
       "         2.66834962e+02,   2.01850863e+02,   1.52692775e+02,\n",
       "         1.15506485e+02,   8.73764200e+01,   6.60970574e+01,\n",
       "         5.00000000e+01,   3.78231664e+01,   2.86118383e+01,\n",
       "         2.16438064e+01,   1.63727458e+01,   1.23853818e+01,\n",
       "         9.36908711e+00,   7.08737081e+00,   5.36133611e+00,\n",
       "         4.05565415e+00,   3.06795364e+00,   2.32079442e+00,\n",
       "         1.75559587e+00,   1.32804389e+00,   1.00461650e+00,\n",
       "         7.59955541e-01,   5.74878498e-01,   4.34874501e-01,\n",
       "         3.28966612e-01,   2.48851178e-01,   1.88246790e-01,\n",
       "         1.42401793e-01,   1.07721735e-01,   8.14875417e-02,\n",
       "         6.16423370e-02,   4.66301673e-02,   3.52740116e-02,\n",
       "         2.66834962e-02,   2.01850863e-02,   1.52692775e-02,\n",
       "         1.15506485e-02,   8.73764200e-03,   6.60970574e-03,\n",
       "         5.00000000e-03])"
      ]
     },
     "execution_count": 4,
     "metadata": {},
     "output_type": "execute_result"
    }
   ],
   "source": [
    "# the alpha in sklearn is the penalty, which is the lamda in R\n",
    "alphas = 10**np.linspace(10,-2,100)*0.5\n",
    "alphas"
   ]
  },
  {
   "cell_type": "code",
   "execution_count": 5,
   "metadata": {
    "collapsed": false
   },
   "outputs": [
    {
     "data": {
      "text/plain": [
       "(100, 19)"
      ]
     },
     "execution_count": 5,
     "metadata": {},
     "output_type": "execute_result"
    }
   ],
   "source": [
    "### Ridge Regression\n",
    "ridge = Ridge(normalize=True)\n",
    "coefs = []\n",
    "\n",
    "for a in alphas:\n",
    "    ridge.set_params(alpha=a)\n",
    "    ridge.fit(X, y)\n",
    "    coefs.append(ridge.coef_)\n",
    "    \n",
    "np.shape(coefs)"
   ]
  },
  {
   "cell_type": "code",
   "execution_count": 6,
   "metadata": {
    "collapsed": false
   },
   "outputs": [
    {
     "data": {
      "text/plain": [
       "<matplotlib.text.Text at 0x1171a49e8>"
      ]
     },
     "execution_count": 6,
     "metadata": {},
     "output_type": "execute_result"
    },
    {
     "data": {
      "image/png": "[encoded data removed]",
      "text/plain": [
       "<matplotlib.figure.Figure at 0x11459b780>"
      ]
     },
     "metadata": {},
     "output_type": "display_data"
    }
   ],
   "source": [
    "ax = plt.gca()\n",
    "ax.plot(alphas, coefs)\n",
    "ax.set_xscale('log')\n",
    "plt.axis('tight')\n",
    "plt.xlabel('alpha')\n",
    "plt.ylabel('weights')"
   ]
  },
  {
   "cell_type": "code",
   "execution_count": 7,
   "metadata": {
    "collapsed": false
   },
   "outputs": [
    {
     "data": {
      "text/plain": [
       "0.011550648500415791"
      ]
     },
     "execution_count": 7,
     "metadata": {},
     "output_type": "execute_result"
    }
   ],
   "source": [
    "# by default, the function performs LOOCV\n",
    "# this can be changed using the argument cv\n",
    "ridgecv = RidgeCV(alphas=alphas, scoring='mean_squared_error', normalize=True)\n",
    "ridgecv.fit(X, y)\n",
    "ridgecv.alpha_"
   ]
  },
  {
   "cell_type": "code",
   "execution_count": 8,
   "metadata": {
    "collapsed": false
   },
   "outputs": [
    {
     "name": "stdout",
     "output_type": "stream",
     "text": [
      "(Intercept)        143.794232986\n",
      "League[T.N]        60.880201\n",
      "Division[T.W]    -123.216561\n",
      "NewLeague[T.N]    -27.477702\n",
      "AtBat              -1.526224\n",
      "Hits                5.339603\n",
      "HmRun               0.407402\n",
      "Runs               -0.139940\n",
      "RBI                 0.129590\n",
      "Walks               5.046306\n",
      "Years             -10.586076\n",
      "CAtBat             -0.047169\n",
      "CHits               0.189090\n",
      "CHmRun              0.694483\n",
      "CRuns               0.643666\n",
      "CRBI                0.367996\n",
      "CWalks             -0.573826\n",
      "PutOuts             0.278350\n",
      "Assists             0.278187\n",
      "Errors             -3.790648\n",
      "dtype: float64\n",
      "MSE 93698.3811822\n"
     ]
    }
   ],
   "source": [
    "ridge_cv = Ridge(alpha=ridgecv.alpha_, normalize=True)\n",
    "ridge_cv.fit(X, y)\n",
    "pred_cv = ridge_cv.predict(X)\n",
    "print('(Intercept)       ', ridge_cv.intercept_)\n",
    "print(pd.Series(ridge_cv.coef_, index=X.columns)) # Print coefficients\n",
    "print('MSE', mean_squared_error(y, pred_cv))        # Calculate the test MSE"
   ]
  },
  {
   "cell_type": "code",
   "execution_count": 10,
   "metadata": {
    "collapsed": false
   },
   "outputs": [
    {
     "data": {
      "text/plain": [
       "<matplotlib.text.Text at 0x11853d4a8>"
      ]
     },
     "execution_count": 10,
     "metadata": {},
     "output_type": "execute_result"
    },
    {
     "data": {
      "image/png": "[encoded data removed]",
      "text/plain": [
       "<matplotlib.figure.Figure at 0x118534128>"
      ]
     },
     "metadata": {},
     "output_type": "display_data"
    }
   ],
   "source": [
    "### The Lasso\n",
    "lasso = Lasso(max_iter=10000, normalize=True)\n",
    "coefs = []\n",
    "\n",
    "for a in alphas:\n",
    "    lasso.set_params(alpha=a)\n",
    "    lasso.fit(scale(X), y)\n",
    "    coefs.append(lasso.coef_)\n",
    "    \n",
    "ax = plt.gca()\n",
    "ax.plot(alphas*2, coefs)\n",
    "ax.set_xscale('log')\n",
    "plt.axis('tight')\n",
    "plt.xlabel('alpha')\n",
    "plt.ylabel('weights')"
   ]
  },
  {
   "cell_type": "code",
   "execution_count": 17,
   "metadata": {
    "collapsed": false
   },
   "outputs": [
    {
     "name": "stdout",
     "output_type": "stream",
     "text": [
      "(Intercept)       122.021683216\n",
      "League[T.N]        32.131777\n",
      "Division[T.W]    -119.112716\n",
      "NewLeague[T.N]     -0.000000\n",
      "AtBat              -1.542786\n",
      "Hits                5.657777\n",
      "HmRun               0.000000\n",
      "Runs               -0.000000\n",
      "RBI                 0.000000\n",
      "Walks               4.712335\n",
      "Years              -9.322016\n",
      "CAtBat             -0.000000\n",
      "CHits               0.000000\n",
      "CHmRun              0.528469\n",
      "CRuns               0.659596\n",
      "CRBI                0.382432\n",
      "CWalks             -0.525993\n",
      "PutOuts             0.272381\n",
      "Assists             0.170881\n",
      "Errors             -2.009794\n",
      "dtype: float64\n",
      "MSE 93698.3811822\n"
     ]
    }
   ],
   "source": [
    "lassocv = LassoCV(alphas=None, cv=10, max_iter=100000, normalize=True) \n",
    "lassocv.fit(X, y)\n",
    "\n",
    "lasso.set_params(alpha=lassocv.alpha_) # reset the alpha\n",
    "lasso.fit(X, y)\n",
    "lapred = lasso.predict(X)\n",
    "print('(Intercept)      ', lasso.intercept_)\n",
    "# Some of the coefficients are now reduced to exactly zero.\n",
    "print(pd.Series(lasso.coef_, index=X.columns)) # Print coefficients\n",
    "print('MSE', mean_squared_error(y, pred_cv))        # Calculate the test MSE"
   ]
  },
  {
   "cell_type": "code",
   "execution_count": 18,
   "metadata": {
    "collapsed": false
   },
   "outputs": [
    {
     "data": {
      "text/plain": [
       "<matplotlib.text.Text at 0x118d8ee10>"
      ]
     },
     "execution_count": 18,
     "metadata": {},
     "output_type": "execute_result"
    },
    {
     "data": {
      "image/png": "[encoded data removed]",
      "text/plain": [
       "<matplotlib.figure.Figure at 0x118e4acc0>"
      ]
     },
     "metadata": {},
     "output_type": "display_data"
    }
   ],
   "source": [
    "### The Elastic Net with a given l1_ratio\n",
    "# when 0 < l1_ratio < 1, it becomes elastic net\n",
    "enet = ElasticNet(l1_ratio=0.7, normalize=True)\n",
    "coefs = []\n",
    "\n",
    "for a in alphas:\n",
    "    enet.set_params(alpha=a)\n",
    "    enet.fit(scale(X), y)\n",
    "    coefs.append(enet.coef_)\n",
    "\n",
    "ax = plt.gca()\n",
    "ax.plot(alphas*2, coefs)\n",
    "ax.set_xscale('log')\n",
    "plt.axis('tight')\n",
    "plt.xlabel('alpha')\n",
    "plt.ylabel('weights')"
   ]
  },
  {
   "cell_type": "code",
   "execution_count": 19,
   "metadata": {
    "collapsed": false
   },
   "outputs": [
    {
     "name": "stdout",
     "output_type": "stream",
     "text": [
      "(Intercept)        65.2516169282\n",
      "League[T.N]       12.258479\n",
      "Division[T.W]    -50.711387\n",
      "NewLeague[T.N]     8.021974\n",
      "AtBat              0.113153\n",
      "Hits               0.626526\n",
      "HmRun              1.224650\n",
      "Runs               0.910571\n",
      "RBI                0.833389\n",
      "Walks              1.269102\n",
      "Years              2.676324\n",
      "CAtBat             0.010651\n",
      "CHits              0.045201\n",
      "CHmRun             0.327464\n",
      "CRuns              0.090420\n",
      "CRBI               0.094290\n",
      "CWalks             0.072452\n",
      "PutOuts            0.110918\n",
      "Assists            0.013989\n",
      "Errors            -0.600155\n",
      "dtype: float64\n",
      "MSE 114419.390048\n"
     ]
    }
   ],
   "source": [
    "enet2 = ElasticNet(l1_ratio=0.7, normalize=True)\n",
    "enetcv = ElasticNetCV(alphas=None, cv=10, l1_ratio=0.7, normalize=True)\n",
    "enetcv.fit(X, y)\n",
    "enet2.set_params(alpha=enetcv.alpha_)\n",
    "enet2.fit(X, y)\n",
    "print('(Intercept)       ', enet2.intercept_)\n",
    "print(pd.Series(enet2.coef_, index=X.columns)) # Print coefficients\n",
    "print('MSE', mean_squared_error(y, enet2.predict(X)))        # Calculate the test MSE"
   ]
  },
  {
   "cell_type": "code",
   "execution_count": 20,
   "metadata": {
    "collapsed": false
   },
   "outputs": [],
   "source": [
    "ratios = np.arange(0.1, 1.01, 0.1)\n",
    "encv_error = pd.DataFrame({'ratio': ratios})\n",
    "encv_error['alpha'] = 0\n",
    "encv_error['mse'] = 0"
   ]
  },
  {
   "cell_type": "code",
   "execution_count": 21,
   "metadata": {
    "collapsed": false
   },
   "outputs": [],
   "source": [
    "for r in ratios:\n",
    "    enetcv = ElasticNetCV(alphas=None, cv=10, l1_ratio=r, normalize=True)\n",
    "    enetcv.fit(X, y)\n",
    "    enet = ElasticNet(l1_ratio=r, normalize=True)\n",
    "    enet.set_params(alpha=enetcv.alpha_)\n",
    "    enet.fit(X, y)\n",
    "    encv_error.loc[(encv_error['ratio'] == r), 'alpha'] = enetcv.alpha_\n",
    "    encv_error.loc[(encv_error['ratio'] == r), 'mse'] = mean_squared_error(y, enet.predict(X))"
   ]
  },
  {
   "cell_type": "code",
   "execution_count": 22,
   "metadata": {
    "collapsed": false
   },
   "outputs": [
    {
     "name": "stdout",
     "output_type": "stream",
     "text": [
      "   ratio     alpha            mse\n",
      "0    0.1  0.157414  177001.852249\n",
      "1    0.2  0.078707  158038.019414\n",
      "2    0.3  0.052471  143942.054064\n",
      "3    0.4  0.039353  133381.357257\n",
      "4    0.5  0.031483  125394.686129\n",
      "5    0.6  0.026236  119263.705879\n",
      "6    0.7  0.022488  114419.390048\n",
      "7    0.8  0.019677  110343.211048\n",
      "8    0.9  0.017490  106256.346357\n",
      "9    1.0  0.168790   94585.415278\n"
     ]
    }
   ],
   "source": [
    "print(encv_error)"
   ]
  }
 ],
 "metadata": {
  "kernelspec": {
   "display_name": "Python [Root]",
   "language": "python",
   "name": "Python [Root]"
  },
  "language_info": {
   "codemirror_mode": {
    "name": "ipython",
    "version": 3
   },
   "file_extension": ".py",
   "mimetype": "text/x-python",
   "name": "python",
   "nbconvert_exporter": "python",
   "pygments_lexer": "ipython3",
   "version": "3.5.2"
  }
 },
 "nbformat": 4,
 "nbformat_minor": 0
}
