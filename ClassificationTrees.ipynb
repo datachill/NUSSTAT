{
 "cells": [
  {
   "cell_type": "code",
   "execution_count": null,
   "metadata": {
    "collapsed": true
   },
   "outputs": [],
   "source": [
    "##########################################################\n",
    "# DSC5103 Statistics\n",
    "# Session 9. Trees I\n",
    "# 2016.12\n",
    "#\n",
    "# run decision tree using the tree() and cv.tree() function in the \"tree\" package\n",
    "# demo for Regression trees\n",
    "# using the Hitters dataset in package \"ISLR\"\n",
    "##########################################################"
   ]
  },
  {
   "cell_type": "code",
   "execution_count": 1,
   "metadata": {
    "collapsed": false
   },
   "outputs": [],
   "source": [
    "import pandas as pd\n",
    "import numpy as np\n",
    "import matplotlib as mpl\n",
    "import matplotlib.pyplot as plt\n",
    "import graphviz\n",
    "import seaborn as sns\n",
    "from sklearn.cross_validation import train_test_split\n",
    "from sklearn.tree import DecisionTreeRegressor, DecisionTreeClassifier, export_graphviz\n",
    "from sklearn.ensemble import RandomForestRegressor, GradientBoostingRegressor\n",
    "from sklearn.metrics import confusion_matrix, mean_squared_error\n",
    "\n",
    "%matplotlib inline"
   ]
  },
  {
   "cell_type": "code",
   "execution_count": 2,
   "metadata": {
    "collapsed": false
   },
   "outputs": [
    {
     "name": "stdout",
     "output_type": "stream",
     "text": [
      "<class 'pandas.core.frame.DataFrame'>\n",
      "Int64Index: 297 entries, 0 to 301\n",
      "Data columns (total 15 columns):\n",
      "Unnamed: 0    297 non-null int64\n",
      "Age           297 non-null int64\n",
      "Sex           297 non-null int64\n",
      "ChestPain     297 non-null object\n",
      "RestBP        297 non-null int64\n",
      "Chol          297 non-null int64\n",
      "Fbs           297 non-null int64\n",
      "RestECG       297 non-null int64\n",
      "MaxHR         297 non-null int64\n",
      "ExAng         297 non-null int64\n",
      "Oldpeak       297 non-null float64\n",
      "Slope         297 non-null int64\n",
      "Ca            297 non-null float64\n",
      "Thal          297 non-null object\n",
      "AHD           297 non-null object\n",
      "dtypes: float64(2), int64(10), object(3)\n",
      "memory usage: 37.1+ KB\n"
     ]
    }
   ],
   "source": [
    "## remove na values\n",
    "df = pd.read_csv('Heart.csv').dropna()\n",
    "df.info()"
   ]
  },
  {
   "cell_type": "code",
   "execution_count": 3,
   "metadata": {
    "collapsed": false
   },
   "outputs": [
    {
     "name": "stdout",
     "output_type": "stream",
     "text": [
      "   Unnamed: 0  Age  Sex     ChestPain  RestBP  Chol  Fbs  RestECG  MaxHR  \\\n",
      "0           1   63    1       typical     145   233    1        2    150   \n",
      "1           2   67    1  asymptomatic     160   286    0        2    108   \n",
      "2           3   67    1  asymptomatic     120   229    0        2    129   \n",
      "3           4   37    1    nonanginal     130   250    0        0    187   \n",
      "4           5   41    0    nontypical     130   204    0        2    172   \n",
      "\n",
      "   ExAng  Oldpeak  Slope   Ca        Thal  AHD  \n",
      "0      0      2.3      3  0.0       fixed   No  \n",
      "1      1      1.5      2  3.0      normal  Yes  \n",
      "2      1      2.6      2  2.0  reversable  Yes  \n",
      "3      0      3.5      3  0.0      normal   No  \n",
      "4      0      1.4      1  0.0      normal   No  \n"
     ]
    }
   ],
   "source": [
    "print(df.head())"
   ]
  },
  {
   "cell_type": "code",
   "execution_count": 4,
   "metadata": {
    "collapsed": false
   },
   "outputs": [],
   "source": [
    "df = df.drop('Unnamed: 0', axis=1)"
   ]
  },
  {
   "cell_type": "code",
   "execution_count": 5,
   "metadata": {
    "collapsed": false
   },
   "outputs": [
    {
     "name": "stdout",
     "output_type": "stream",
     "text": [
      "<class 'pandas.core.frame.DataFrame'>\n",
      "Int64Index: 297 entries, 0 to 301\n",
      "Data columns (total 14 columns):\n",
      "Age          297 non-null int64\n",
      "Sex          297 non-null int64\n",
      "ChestPain    297 non-null int64\n",
      "RestBP       297 non-null int64\n",
      "Chol         297 non-null int64\n",
      "Fbs          297 non-null int64\n",
      "RestECG      297 non-null int64\n",
      "MaxHR        297 non-null int64\n",
      "ExAng        297 non-null int64\n",
      "Oldpeak      297 non-null float64\n",
      "Slope        297 non-null int64\n",
      "Ca           297 non-null float64\n",
      "Thal         297 non-null int64\n",
      "AHD          297 non-null int64\n",
      "dtypes: float64(2), int64(12)\n",
      "memory usage: 34.8 KB\n"
     ]
    }
   ],
   "source": [
    "df.ChestPain = pd.factorize(df.ChestPain)[0]\n",
    "df.Thal = pd.factorize(df.Thal)[0]\n",
    "df.AHD = df.AHD.map({'No':0, 'Yes':1})\n",
    "df.info()"
   ]
  },
  {
   "cell_type": "code",
   "execution_count": 41,
   "metadata": {
    "collapsed": false
   },
   "outputs": [],
   "source": [
    "# split training and test data 50/50\n",
    "X = df.drop('AHD', axis=1)\n",
    "y = df.AHD\n",
    "X_train, X_test, y_train, y_test = train_test_split(X, y, train_size=0.5, random_state=1234)"
   ]
  },
  {
   "cell_type": "code",
   "execution_count": 42,
   "metadata": {
    "collapsed": false
   },
   "outputs": [
    {
     "data": {
      "text/plain": [
       "0.8783783783783784"
      ]
     },
     "execution_count": 42,
     "metadata": {},
     "output_type": "execute_result"
    }
   ],
   "source": [
    "## grow a tree\n",
    "# choosing max nodes 7 (max leaves can be set as well)\n",
    "clf = DecisionTreeClassifier(max_leaf_nodes=7)\n",
    "clf.fit(X_train, y_train)\n",
    "clf.score(X_train, y_train)"
   ]
  },
  {
   "cell_type": "code",
   "execution_count": 43,
   "metadata": {
    "collapsed": false
   },
   "outputs": [],
   "source": [
    "clfclass = np.asarray(clf.classes_, dtype=str)"
   ]
  },
  {
   "cell_type": "code",
   "execution_count": 44,
   "metadata": {
    "collapsed": false,
    "scrolled": false
   },
   "outputs": [
    {
     "data": {
      "image/svg+xml": [
       "<?xml version=\"1.0\" encoding=\"UTF-8\" standalone=\"no\"?>\n",
       "<!DOCTYPE svg PUBLIC \"-//W3C//DTD SVG 1.1//EN\"\n",
       " \"http://www.w3.org/Graphics/SVG/1.1/DTD/svg11.dtd\">\n",
       "<!-- Generated by graphviz version 2.38.0 (20140413.2041)\n",
       " -->\n",
       "<!-- Title: Tree Pages: 1 -->\n",
       "<svg width=\"540pt\" height=\"528pt\"\n",
       " viewBox=\"0.00 0.00 540.45 528.00\" xmlns=\"http://www.w3.org/2000/svg\" xmlns:xlink=\"http://www.w3.org/1999/xlink\">\n",
       "<g id=\"graph0\" class=\"graph\" transform=\"scale(1 1) rotate(0) translate(4 524)\">\n",
       "<title>Tree</title>\n",
       "<polygon fill=\"white\" stroke=\"none\" points=\"-4,4 -4,-524 536.448,-524 536.448,4 -4,4\"/>\n",
       "<!-- 0 -->\n",
       "<g id=\"node1\" class=\"node\"><title>0</title>\n",
       "<path fill=\"#e58139\" fill-opacity=\"0.078431\" stroke=\"black\" d=\"M342.796,-520C342.796,-520 251.759,-520 251.759,-520 245.759,-520 239.759,-514 239.759,-508 239.759,-508 239.759,-454 239.759,-454 239.759,-448 245.759,-442 251.759,-442 251.759,-442 342.796,-442 342.796,-442 348.796,-442 354.796,-448 354.796,-454 354.796,-454 354.796,-508 354.796,-508 354.796,-514 348.796,-520 342.796,-520\"/>\n",
       "<text text-anchor=\"start\" x=\"247.519\" y=\"-504.8\" font-family=\"Helvetica,sans-Serif\" font-size=\"14.00\">ChestPain ≤ 1.5</text>\n",
       "<text text-anchor=\"start\" x=\"256.993\" y=\"-490.8\" font-family=\"Helvetica,sans-Serif\" font-size=\"14.00\">gini = 0.4992</text>\n",
       "<text text-anchor=\"start\" x=\"251.555\" y=\"-476.8\" font-family=\"Helvetica,sans-Serif\" font-size=\"14.00\">samples = 148</text>\n",
       "<text text-anchor=\"start\" x=\"249.214\" y=\"-462.8\" font-family=\"Helvetica,sans-Serif\" font-size=\"14.00\">value = [77, 71]</text>\n",
       "<text text-anchor=\"start\" x=\"269.458\" y=\"-448.8\" font-family=\"Helvetica,sans-Serif\" font-size=\"14.00\">class = 0</text>\n",
       "</g>\n",
       "<!-- 1 -->\n",
       "<g id=\"node2\" class=\"node\"><title>1</title>\n",
       "<path fill=\"#399de5\" fill-opacity=\"0.611765\" stroke=\"black\" d=\"M276.404,-406C276.404,-406 188.15,-406 188.15,-406 182.15,-406 176.15,-400 176.15,-394 176.15,-394 176.15,-340 176.15,-340 176.15,-334 182.15,-328 188.15,-328 188.15,-328 276.404,-328 276.404,-328 282.404,-328 288.404,-334 288.404,-340 288.404,-340 288.404,-394 288.404,-394 288.404,-400 282.404,-406 276.404,-406\"/>\n",
       "<text text-anchor=\"start\" x=\"205.867\" y=\"-390.8\" font-family=\"Helvetica,sans-Serif\" font-size=\"14.00\">Ca ≤ 0.5</text>\n",
       "<text text-anchor=\"start\" x=\"191.993\" y=\"-376.8\" font-family=\"Helvetica,sans-Serif\" font-size=\"14.00\">gini = 0.4036</text>\n",
       "<text text-anchor=\"start\" x=\"190.448\" y=\"-362.8\" font-family=\"Helvetica,sans-Serif\" font-size=\"14.00\">samples = 82</text>\n",
       "<text text-anchor=\"start\" x=\"184.214\" y=\"-348.8\" font-family=\"Helvetica,sans-Serif\" font-size=\"14.00\">value = [23, 59]</text>\n",
       "<text text-anchor=\"start\" x=\"204.458\" y=\"-334.8\" font-family=\"Helvetica,sans-Serif\" font-size=\"14.00\">class = 1</text>\n",
       "</g>\n",
       "<!-- 0&#45;&gt;1 -->\n",
       "<g id=\"edge1\" class=\"edge\"><title>0&#45;&gt;1</title>\n",
       "<path fill=\"none\" stroke=\"black\" d=\"M275.09,-441.769C270.07,-433.119 264.683,-423.838 259.483,-414.877\"/>\n",
       "<polygon fill=\"black\" stroke=\"black\" points=\"262.412,-412.951 254.365,-406.058 256.357,-416.464 262.412,-412.951\"/>\n",
       "<text text-anchor=\"middle\" x=\"247.949\" y=\"-426.021\" font-family=\"Helvetica,sans-Serif\" font-size=\"14.00\">True</text>\n",
       "</g>\n",
       "<!-- 2 -->\n",
       "<g id=\"node9\" class=\"node\"><title>2</title>\n",
       "<path fill=\"#e58139\" fill-opacity=\"0.776471\" stroke=\"black\" d=\"M406.404,-406C406.404,-406 318.15,-406 318.15,-406 312.15,-406 306.15,-400 306.15,-394 306.15,-394 306.15,-340 306.15,-340 306.15,-334 312.15,-328 318.15,-328 318.15,-328 406.404,-328 406.404,-328 412.404,-328 418.404,-334 418.404,-340 418.404,-340 418.404,-394 418.404,-394 418.404,-400 412.404,-406 406.404,-406\"/>\n",
       "<text text-anchor=\"start\" x=\"318.743\" y=\"-390.8\" font-family=\"Helvetica,sans-Serif\" font-size=\"14.00\">Oldpeak ≤ 1.7</text>\n",
       "<text text-anchor=\"start\" x=\"321.993\" y=\"-376.8\" font-family=\"Helvetica,sans-Serif\" font-size=\"14.00\">gini = 0.2975</text>\n",
       "<text text-anchor=\"start\" x=\"320.448\" y=\"-362.8\" font-family=\"Helvetica,sans-Serif\" font-size=\"14.00\">samples = 66</text>\n",
       "<text text-anchor=\"start\" x=\"314.214\" y=\"-348.8\" font-family=\"Helvetica,sans-Serif\" font-size=\"14.00\">value = [54, 12]</text>\n",
       "<text text-anchor=\"start\" x=\"334.458\" y=\"-334.8\" font-family=\"Helvetica,sans-Serif\" font-size=\"14.00\">class = 0</text>\n",
       "</g>\n",
       "<!-- 0&#45;&gt;2 -->\n",
       "<g id=\"edge8\" class=\"edge\"><title>0&#45;&gt;2</title>\n",
       "<path fill=\"none\" stroke=\"black\" d=\"M319.465,-441.769C324.485,-433.119 329.871,-423.838 335.072,-414.877\"/>\n",
       "<polygon fill=\"black\" stroke=\"black\" points=\"338.197,-416.464 340.19,-406.058 332.143,-412.951 338.197,-416.464\"/>\n",
       "<text text-anchor=\"middle\" x=\"346.606\" y=\"-426.021\" font-family=\"Helvetica,sans-Serif\" font-size=\"14.00\">False</text>\n",
       "</g>\n",
       "<!-- 3 -->\n",
       "<g id=\"node3\" class=\"node\"><title>3</title>\n",
       "<path fill=\"#e58139\" fill-opacity=\"0.050980\" stroke=\"black\" d=\"M151.404,-292C151.404,-292 63.1503,-292 63.1503,-292 57.1503,-292 51.1503,-286 51.1503,-280 51.1503,-280 51.1503,-226 51.1503,-226 51.1503,-220 57.1503,-214 63.1503,-214 63.1503,-214 151.404,-214 151.404,-214 157.404,-214 163.404,-220 163.404,-226 163.404,-226 163.404,-280 163.404,-280 163.404,-286 157.404,-292 151.404,-292\"/>\n",
       "<text text-anchor=\"start\" x=\"76.1978\" y=\"-276.8\" font-family=\"Helvetica,sans-Serif\" font-size=\"14.00\">Thal ≤ 1.5</text>\n",
       "<text text-anchor=\"start\" x=\"66.9932\" y=\"-262.8\" font-family=\"Helvetica,sans-Serif\" font-size=\"14.00\">gini = 0.4996</text>\n",
       "<text text-anchor=\"start\" x=\"65.4482\" y=\"-248.8\" font-family=\"Helvetica,sans-Serif\" font-size=\"14.00\">samples = 37</text>\n",
       "<text text-anchor=\"start\" x=\"59.2139\" y=\"-234.8\" font-family=\"Helvetica,sans-Serif\" font-size=\"14.00\">value = [19, 18]</text>\n",
       "<text text-anchor=\"start\" x=\"79.4585\" y=\"-220.8\" font-family=\"Helvetica,sans-Serif\" font-size=\"14.00\">class = 0</text>\n",
       "</g>\n",
       "<!-- 1&#45;&gt;3 -->\n",
       "<g id=\"edge2\" class=\"edge\"><title>1&#45;&gt;3</title>\n",
       "<path fill=\"none\" stroke=\"black\" d=\"M189.609,-327.769C179.251,-318.488 168.082,-308.481 157.414,-298.923\"/>\n",
       "<polygon fill=\"black\" stroke=\"black\" points=\"159.537,-296.125 149.753,-292.058 154.865,-301.338 159.537,-296.125\"/>\n",
       "</g>\n",
       "<!-- 4 -->\n",
       "<g id=\"node8\" class=\"node\"><title>4</title>\n",
       "<path fill=\"#399de5\" fill-opacity=\"0.901961\" stroke=\"black\" d=\"M273.619,-285C273.619,-285 192.936,-285 192.936,-285 186.936,-285 180.936,-279 180.936,-273 180.936,-273 180.936,-233 180.936,-233 180.936,-227 186.936,-221 192.936,-221 192.936,-221 273.619,-221 273.619,-221 279.619,-221 285.619,-227 285.619,-233 285.619,-233 285.619,-273 285.619,-273 285.619,-279 279.619,-285 273.619,-285\"/>\n",
       "<text text-anchor=\"start\" x=\"196.886\" y=\"-269.8\" font-family=\"Helvetica,sans-Serif\" font-size=\"14.00\">gini = 0.162</text>\n",
       "<text text-anchor=\"start\" x=\"191.448\" y=\"-255.8\" font-family=\"Helvetica,sans-Serif\" font-size=\"14.00\">samples = 45</text>\n",
       "<text text-anchor=\"start\" x=\"189.107\" y=\"-241.8\" font-family=\"Helvetica,sans-Serif\" font-size=\"14.00\">value = [4, 41]</text>\n",
       "<text text-anchor=\"start\" x=\"205.458\" y=\"-227.8\" font-family=\"Helvetica,sans-Serif\" font-size=\"14.00\">class = 1</text>\n",
       "</g>\n",
       "<!-- 1&#45;&gt;4 -->\n",
       "<g id=\"edge7\" class=\"edge\"><title>1&#45;&gt;4</title>\n",
       "<path fill=\"none\" stroke=\"black\" d=\"M232.619,-327.769C232.712,-317.313 232.814,-305.935 232.908,-295.315\"/>\n",
       "<polygon fill=\"black\" stroke=\"black\" points=\"236.411,-295.041 233,-285.01 229.411,-294.978 236.411,-295.041\"/>\n",
       "</g>\n",
       "<!-- 5 -->\n",
       "<g id=\"node4\" class=\"node\"><title>5</title>\n",
       "<path fill=\"#e58139\" fill-opacity=\"0.686275\" stroke=\"black\" d=\"M151.943,-178C151.943,-178 62.6112,-178 62.6112,-178 56.6112,-178 50.6112,-172 50.6112,-166 50.6112,-166 50.6112,-112 50.6112,-112 50.6112,-106 56.6112,-100 62.6112,-100 62.6112,-100 151.943,-100 151.943,-100 157.943,-100 163.943,-106 163.943,-112 163.943,-112 163.943,-166 163.943,-166 163.943,-172 157.943,-178 151.943,-178\"/>\n",
       "<text text-anchor=\"start\" x=\"58.6943\" y=\"-162.8\" font-family=\"Helvetica,sans-Serif\" font-size=\"14.00\">MaxHR ≤ 128.0</text>\n",
       "<text text-anchor=\"start\" x=\"66.9932\" y=\"-148.8\" font-family=\"Helvetica,sans-Serif\" font-size=\"14.00\">gini = 0.3628</text>\n",
       "<text text-anchor=\"start\" x=\"65.4482\" y=\"-134.8\" font-family=\"Helvetica,sans-Serif\" font-size=\"14.00\">samples = 21</text>\n",
       "<text text-anchor=\"start\" x=\"63.1069\" y=\"-120.8\" font-family=\"Helvetica,sans-Serif\" font-size=\"14.00\">value = [16, 5]</text>\n",
       "<text text-anchor=\"start\" x=\"79.4585\" y=\"-106.8\" font-family=\"Helvetica,sans-Serif\" font-size=\"14.00\">class = 0</text>\n",
       "</g>\n",
       "<!-- 3&#45;&gt;5 -->\n",
       "<g id=\"edge3\" class=\"edge\"><title>3&#45;&gt;5</title>\n",
       "<path fill=\"none\" stroke=\"black\" d=\"M107.277,-213.769C107.277,-205.57 107.277,-196.803 107.277,-188.28\"/>\n",
       "<polygon fill=\"black\" stroke=\"black\" points=\"110.777,-188.058 107.277,-178.058 103.777,-188.059 110.777,-188.058\"/>\n",
       "</g>\n",
       "<!-- 6 -->\n",
       "<g id=\"node7\" class=\"node\"><title>6</title>\n",
       "<path fill=\"#399de5\" fill-opacity=\"0.768627\" stroke=\"black\" d=\"M274.619,-171C274.619,-171 193.936,-171 193.936,-171 187.936,-171 181.936,-165 181.936,-159 181.936,-159 181.936,-119 181.936,-119 181.936,-113 187.936,-107 193.936,-107 193.936,-107 274.619,-107 274.619,-107 280.619,-107 286.619,-113 286.619,-119 286.619,-119 286.619,-159 286.619,-159 286.619,-165 280.619,-171 274.619,-171\"/>\n",
       "<text text-anchor=\"start\" x=\"193.993\" y=\"-155.8\" font-family=\"Helvetica,sans-Serif\" font-size=\"14.00\">gini = 0.3047</text>\n",
       "<text text-anchor=\"start\" x=\"192.448\" y=\"-141.8\" font-family=\"Helvetica,sans-Serif\" font-size=\"14.00\">samples = 16</text>\n",
       "<text text-anchor=\"start\" x=\"190.107\" y=\"-127.8\" font-family=\"Helvetica,sans-Serif\" font-size=\"14.00\">value = [3, 13]</text>\n",
       "<text text-anchor=\"start\" x=\"206.458\" y=\"-113.8\" font-family=\"Helvetica,sans-Serif\" font-size=\"14.00\">class = 1</text>\n",
       "</g>\n",
       "<!-- 3&#45;&gt;6 -->\n",
       "<g id=\"edge6\" class=\"edge\"><title>3&#45;&gt;6</title>\n",
       "<path fill=\"none\" stroke=\"black\" d=\"M150.628,-213.769C163.843,-202.115 178.357,-189.315 191.532,-177.697\"/>\n",
       "<polygon fill=\"black\" stroke=\"black\" points=\"193.929,-180.249 199.114,-171.01 189.299,-174.999 193.929,-180.249\"/>\n",
       "</g>\n",
       "<!-- 7 -->\n",
       "<g id=\"node5\" class=\"node\"><title>7</title>\n",
       "<path fill=\"#399de5\" fill-opacity=\"0.749020\" stroke=\"black\" d=\"M84.3331,-64C84.3331,-64 12.2216,-64 12.2216,-64 6.22163,-64 0.221634,-58 0.221634,-52 0.221634,-52 0.221634,-12 0.221634,-12 0.221634,-6 6.22163,-0 12.2216,-0 12.2216,-0 84.3331,-0 84.3331,-0 90.3331,-0 96.3331,-6 96.3331,-12 96.3331,-12 96.3331,-52 96.3331,-52 96.3331,-58 90.3331,-64 84.3331,-64\"/>\n",
       "<text text-anchor=\"start\" x=\"15.7793\" y=\"-48.8\" font-family=\"Helvetica,sans-Serif\" font-size=\"14.00\">gini = 0.32</text>\n",
       "<text text-anchor=\"start\" x=\"10.3413\" y=\"-34.8\" font-family=\"Helvetica,sans-Serif\" font-size=\"14.00\">samples = 5</text>\n",
       "<text text-anchor=\"start\" x=\"8\" y=\"-20.8\" font-family=\"Helvetica,sans-Serif\" font-size=\"14.00\">value = [1, 4]</text>\n",
       "<text text-anchor=\"start\" x=\"20.4585\" y=\"-6.8\" font-family=\"Helvetica,sans-Serif\" font-size=\"14.00\">class = 1</text>\n",
       "</g>\n",
       "<!-- 5&#45;&gt;7 -->\n",
       "<g id=\"edge4\" class=\"edge\"><title>5&#45;&gt;7</title>\n",
       "<path fill=\"none\" stroke=\"black\" d=\"M85.8101,-99.7956C80.9193,-91.0916 75.7097,-81.8203 70.7772,-73.042\"/>\n",
       "<polygon fill=\"black\" stroke=\"black\" points=\"73.7122,-71.1206 65.7622,-64.1172 67.6097,-74.5497 73.7122,-71.1206\"/>\n",
       "</g>\n",
       "<!-- 8 -->\n",
       "<g id=\"node6\" class=\"node\"><title>8</title>\n",
       "<path fill=\"#e58139\" fill-opacity=\"0.933333\" stroke=\"black\" d=\"M206.619,-64C206.619,-64 125.936,-64 125.936,-64 119.936,-64 113.936,-58 113.936,-52 113.936,-52 113.936,-12 113.936,-12 113.936,-6 119.936,-0 125.936,-0 125.936,-0 206.619,-0 206.619,-0 212.619,-0 218.619,-6 218.619,-12 218.619,-12 218.619,-52 218.619,-52 218.619,-58 212.619,-64 206.619,-64\"/>\n",
       "<text text-anchor=\"start\" x=\"126.509\" y=\"-48.8\" font-family=\"Helvetica,sans-Serif\" font-size=\"14.00\">gini = 0.1172</text>\n",
       "<text text-anchor=\"start\" x=\"124.448\" y=\"-34.8\" font-family=\"Helvetica,sans-Serif\" font-size=\"14.00\">samples = 16</text>\n",
       "<text text-anchor=\"start\" x=\"122.107\" y=\"-20.8\" font-family=\"Helvetica,sans-Serif\" font-size=\"14.00\">value = [15, 1]</text>\n",
       "<text text-anchor=\"start\" x=\"138.458\" y=\"-6.8\" font-family=\"Helvetica,sans-Serif\" font-size=\"14.00\">class = 0</text>\n",
       "</g>\n",
       "<!-- 5&#45;&gt;8 -->\n",
       "<g id=\"edge5\" class=\"edge\"><title>5&#45;&gt;8</title>\n",
       "<path fill=\"none\" stroke=\"black\" d=\"M128.745,-99.7956C133.635,-91.0916 138.845,-81.8203 143.778,-73.042\"/>\n",
       "<polygon fill=\"black\" stroke=\"black\" points=\"146.945,-74.5497 148.792,-64.1172 140.842,-71.1206 146.945,-74.5497\"/>\n",
       "</g>\n",
       "<!-- 9 -->\n",
       "<g id=\"node10\" class=\"node\"><title>9</title>\n",
       "<path fill=\"#e58139\" fill-opacity=\"0.850980\" stroke=\"black\" d=\"M399.619,-292C399.619,-292 318.936,-292 318.936,-292 312.936,-292 306.936,-286 306.936,-280 306.936,-280 306.936,-226 306.936,-226 306.936,-220 312.936,-214 318.936,-214 318.936,-214 399.619,-214 399.619,-214 405.619,-214 411.619,-220 411.619,-226 411.619,-226 411.619,-280 411.619,-280 411.619,-286 405.619,-292 399.619,-292\"/>\n",
       "<text text-anchor=\"start\" x=\"325.467\" y=\"-276.8\" font-family=\"Helvetica,sans-Serif\" font-size=\"14.00\">Age ≤ 56.5</text>\n",
       "<text text-anchor=\"start\" x=\"318.993\" y=\"-262.8\" font-family=\"Helvetica,sans-Serif\" font-size=\"14.00\">gini = 0.2279</text>\n",
       "<text text-anchor=\"start\" x=\"317.448\" y=\"-248.8\" font-family=\"Helvetica,sans-Serif\" font-size=\"14.00\">samples = 61</text>\n",
       "<text text-anchor=\"start\" x=\"315.107\" y=\"-234.8\" font-family=\"Helvetica,sans-Serif\" font-size=\"14.00\">value = [53, 8]</text>\n",
       "<text text-anchor=\"start\" x=\"331.458\" y=\"-220.8\" font-family=\"Helvetica,sans-Serif\" font-size=\"14.00\">class = 0</text>\n",
       "</g>\n",
       "<!-- 2&#45;&gt;9 -->\n",
       "<g id=\"edge9\" class=\"edge\"><title>2&#45;&gt;9</title>\n",
       "<path fill=\"none\" stroke=\"black\" d=\"M361.253,-327.769C361.034,-319.57 360.799,-310.803 360.571,-302.28\"/>\n",
       "<polygon fill=\"black\" stroke=\"black\" points=\"364.063,-301.961 360.297,-292.058 357.066,-302.149 364.063,-301.961\"/>\n",
       "</g>\n",
       "<!-- 10 -->\n",
       "<g id=\"node13\" class=\"node\"><title>10</title>\n",
       "<path fill=\"#399de5\" fill-opacity=\"0.749020\" stroke=\"black\" d=\"M513.333,-285C513.333,-285 441.222,-285 441.222,-285 435.222,-285 429.222,-279 429.222,-273 429.222,-273 429.222,-233 429.222,-233 429.222,-227 435.222,-221 441.222,-221 441.222,-221 513.333,-221 513.333,-221 519.333,-221 525.333,-227 525.333,-233 525.333,-233 525.333,-273 525.333,-273 525.333,-279 519.333,-285 513.333,-285\"/>\n",
       "<text text-anchor=\"start\" x=\"444.779\" y=\"-269.8\" font-family=\"Helvetica,sans-Serif\" font-size=\"14.00\">gini = 0.32</text>\n",
       "<text text-anchor=\"start\" x=\"439.341\" y=\"-255.8\" font-family=\"Helvetica,sans-Serif\" font-size=\"14.00\">samples = 5</text>\n",
       "<text text-anchor=\"start\" x=\"437\" y=\"-241.8\" font-family=\"Helvetica,sans-Serif\" font-size=\"14.00\">value = [1, 4]</text>\n",
       "<text text-anchor=\"start\" x=\"449.458\" y=\"-227.8\" font-family=\"Helvetica,sans-Serif\" font-size=\"14.00\">class = 1</text>\n",
       "</g>\n",
       "<!-- 2&#45;&gt;10 -->\n",
       "<g id=\"edge12\" class=\"edge\"><title>2&#45;&gt;10</title>\n",
       "<path fill=\"none\" stroke=\"black\" d=\"M401.532,-327.769C413.387,-316.224 426.395,-303.555 438.236,-292.023\"/>\n",
       "<polygon fill=\"black\" stroke=\"black\" points=\"440.715,-294.494 445.437,-285.01 435.831,-289.48 440.715,-294.494\"/>\n",
       "</g>\n",
       "<!-- 11 -->\n",
       "<g id=\"node11\" class=\"node\"><title>11</title>\n",
       "<path fill=\"#e58139\" fill-opacity=\"0.949020\" stroke=\"black\" d=\"M398.619,-171C398.619,-171 317.936,-171 317.936,-171 311.936,-171 305.936,-165 305.936,-159 305.936,-159 305.936,-119 305.936,-119 305.936,-113 311.936,-107 317.936,-107 317.936,-107 398.619,-107 398.619,-107 404.619,-107 410.619,-113 410.619,-119 410.619,-119 410.619,-159 410.619,-159 410.619,-165 404.619,-171 398.619,-171\"/>\n",
       "<text text-anchor=\"start\" x=\"317.993\" y=\"-155.8\" font-family=\"Helvetica,sans-Serif\" font-size=\"14.00\">gini = 0.0907</text>\n",
       "<text text-anchor=\"start\" x=\"316.448\" y=\"-141.8\" font-family=\"Helvetica,sans-Serif\" font-size=\"14.00\">samples = 42</text>\n",
       "<text text-anchor=\"start\" x=\"314.107\" y=\"-127.8\" font-family=\"Helvetica,sans-Serif\" font-size=\"14.00\">value = [40, 2]</text>\n",
       "<text text-anchor=\"start\" x=\"330.458\" y=\"-113.8\" font-family=\"Helvetica,sans-Serif\" font-size=\"14.00\">class = 0</text>\n",
       "</g>\n",
       "<!-- 9&#45;&gt;11 -->\n",
       "<g id=\"edge10\" class=\"edge\"><title>9&#45;&gt;11</title>\n",
       "<path fill=\"none\" stroke=\"black\" d=\"M358.936,-213.769C358.843,-203.313 358.741,-191.935 358.646,-181.315\"/>\n",
       "<polygon fill=\"black\" stroke=\"black\" points=\"362.143,-180.978 358.554,-171.01 355.144,-181.041 362.143,-180.978\"/>\n",
       "</g>\n",
       "<!-- 12 -->\n",
       "<g id=\"node12\" class=\"node\"><title>12</title>\n",
       "<path fill=\"#e58139\" fill-opacity=\"0.537255\" stroke=\"black\" d=\"M520.619,-171C520.619,-171 439.936,-171 439.936,-171 433.936,-171 427.936,-165 427.936,-159 427.936,-159 427.936,-119 427.936,-119 427.936,-113 433.936,-107 439.936,-107 439.936,-107 520.619,-107 520.619,-107 526.619,-107 532.619,-113 532.619,-119 532.619,-119 532.619,-159 532.619,-159 532.619,-165 526.619,-171 520.619,-171\"/>\n",
       "<text text-anchor=\"start\" x=\"439.993\" y=\"-155.8\" font-family=\"Helvetica,sans-Serif\" font-size=\"14.00\">gini = 0.4321</text>\n",
       "<text text-anchor=\"start\" x=\"438.448\" y=\"-141.8\" font-family=\"Helvetica,sans-Serif\" font-size=\"14.00\">samples = 19</text>\n",
       "<text text-anchor=\"start\" x=\"436.107\" y=\"-127.8\" font-family=\"Helvetica,sans-Serif\" font-size=\"14.00\">value = [13, 6]</text>\n",
       "<text text-anchor=\"start\" x=\"452.458\" y=\"-113.8\" font-family=\"Helvetica,sans-Serif\" font-size=\"14.00\">class = 0</text>\n",
       "</g>\n",
       "<!-- 9&#45;&gt;12 -->\n",
       "<g id=\"edge11\" class=\"edge\"><title>9&#45;&gt;12</title>\n",
       "<path fill=\"none\" stroke=\"black\" d=\"M400.58,-213.769C413.053,-202.224 426.741,-189.555 439.199,-178.023\"/>\n",
       "<polygon fill=\"black\" stroke=\"black\" points=\"441.814,-180.372 446.775,-171.01 437.059,-175.234 441.814,-180.372\"/>\n",
       "</g>\n",
       "</g>\n",
       "</svg>\n"
      ],
      "text/plain": [
       "<graphviz.files.Source at 0x11a4dc898>"
      ]
     },
     "execution_count": 44,
     "metadata": {},
     "output_type": "execute_result"
    }
   ],
   "source": [
    "export_graphviz(clf, out_file=\"mytree.dot\", feature_names=X_train.columns, class_names=clfclass, \n",
    "                filled=True, rounded=True, special_characters=True)\n",
    "with open(\"mytree.dot\") as f:\n",
    "    dot_graph = f.read()\n",
    "graphviz.Source(dot_graph)"
   ]
  },
  {
   "cell_type": "code",
   "execution_count": 45,
   "metadata": {
    "collapsed": false
   },
   "outputs": [
    {
     "name": "stdout",
     "output_type": "stream",
     "text": [
      "     No  Yes\n",
      "No   63   14\n",
      "Yes  20   52\n"
     ]
    }
   ],
   "source": [
    "pred = clf.predict(X_test)\n",
    "predprob = clf.predict_proba(X_test)\n",
    "cm = pd.DataFrame(confusion_matrix(y_test, pred).T, index=['No', 'Yes'], columns=['No', 'Yes'])\n",
    "print(cm)"
   ]
  },
  {
   "cell_type": "code",
   "execution_count": 46,
   "metadata": {
    "collapsed": true
   },
   "outputs": [],
   "source": [
    "from sklearn.metrics import roc_curve, auc\n",
    "fpr, tpr, thresholds=roc_curve(y_test, predprob[:,1])"
   ]
  },
  {
   "cell_type": "code",
   "execution_count": 47,
   "metadata": {
    "collapsed": false
   },
   "outputs": [
    {
     "data": {
      "text/plain": [
       "<matplotlib.text.Text at 0x11a76e978>"
      ]
     },
     "execution_count": 47,
     "metadata": {},
     "output_type": "execute_result"
    },
    {
     "data": {
      "image/png": "[encoded data removed]",
      "text/plain": [
       "<matplotlib.figure.Figure at 0x11a698390>"
      ]
     },
     "metadata": {},
     "output_type": "display_data"
    }
   ],
   "source": [
    "ax=plt.gca()\n",
    "ax.plot(fpr, tpr)\n",
    "ax.plot([0, 1], [0, 1], 'k--')\n",
    "ax.set_xlim([0.0, 1.0])\n",
    "ax.set_ylim([0.0, 1.05])\n",
    "ax.set_xlabel('False Positive Rate')\n",
    "ax.set_ylabel('True Positive Rate')\n",
    "ax.set_title('ROC')"
   ]
  },
  {
   "cell_type": "code",
   "execution_count": 48,
   "metadata": {
    "collapsed": false
   },
   "outputs": [
    {
     "name": "stdout",
     "output_type": "stream",
     "text": [
      "0.836801752464\n"
     ]
    }
   ],
   "source": [
    "roc_auc = auc(fpr, tpr)\n",
    "print(roc_auc)"
   ]
  },
  {
   "cell_type": "code",
   "execution_count": 49,
   "metadata": {
    "collapsed": true
   },
   "outputs": [],
   "source": [
    "## pruning the tree with GridSearchCV\n",
    "from sklearn.grid_search import GridSearchCV"
   ]
  },
  {
   "cell_type": "code",
   "execution_count": 50,
   "metadata": {
    "collapsed": true
   },
   "outputs": [],
   "source": [
    "clfpruned = DecisionTreeClassifier()"
   ]
  },
  {
   "cell_type": "code",
   "execution_count": 51,
   "metadata": {
    "collapsed": true
   },
   "outputs": [],
   "source": [
    "parameters = {'max_leaf_nodes': [2, 3, 4, 5, 6, 7, 8]}"
   ]
  },
  {
   "cell_type": "code",
   "execution_count": 52,
   "metadata": {
    "collapsed": true
   },
   "outputs": [],
   "source": [
    "# http://scikit-learn.org/stable/modules/model_evaluation.html\n",
    "gs = GridSearchCV(clfpruned, param_grid=parameters, scoring='f1', n_jobs=4, cv=10)\n",
    "# Valid options are ['accuracy', 'adjusted_rand_score', 'average_precision', 'f1', \n",
    "# 'f1_macro', 'f1_micro', 'f1_samples', 'f1_weighted', 'log_loss', 'mean_absolute_error', \n",
    "# 'mean_squared_error', 'median_absolute_error', 'precision', 'precision_macro', 'precision_micro', \n",
    "# 'precision_samples', 'precision_weighted', 'r2', 'recall', 'recall_macro', 'recall_micro', 'recall_samples', \n",
    "# 'recall_weighted', 'roc_auc']"
   ]
  },
  {
   "cell_type": "code",
   "execution_count": 53,
   "metadata": {
    "collapsed": false
   },
   "outputs": [
    {
     "data": {
      "text/plain": [
       "GridSearchCV(cv=10, error_score='raise',\n",
       "       estimator=DecisionTreeClassifier(class_weight=None, criterion='gini', max_depth=None,\n",
       "            max_features=None, max_leaf_nodes=None, min_samples_leaf=1,\n",
       "            min_samples_split=2, min_weight_fraction_leaf=0.0,\n",
       "            presort=False, random_state=None, splitter='best'),\n",
       "       fit_params={}, iid=True, n_jobs=4,\n",
       "       param_grid={'max_leaf_nodes': [2, 3, 4, 5, 6, 7, 8]},\n",
       "       pre_dispatch='2*n_jobs', refit=True, scoring='f1', verbose=0)"
      ]
     },
     "execution_count": 53,
     "metadata": {},
     "output_type": "execute_result"
    }
   ],
   "source": [
    "gs.fit(X_train, y_train)"
   ]
  },
  {
   "cell_type": "code",
   "execution_count": 54,
   "metadata": {
    "collapsed": false
   },
   "outputs": [
    {
     "data": {
      "text/plain": [
       "[mean: 0.61659, std: 0.10925, params: {'max_leaf_nodes': 2},\n",
       " mean: 0.65105, std: 0.16740, params: {'max_leaf_nodes': 3},\n",
       " mean: 0.71298, std: 0.10322, params: {'max_leaf_nodes': 4},\n",
       " mean: 0.72111, std: 0.09783, params: {'max_leaf_nodes': 5},\n",
       " mean: 0.73351, std: 0.05511, params: {'max_leaf_nodes': 6},\n",
       " mean: 0.72373, std: 0.07108, params: {'max_leaf_nodes': 7},\n",
       " mean: 0.73742, std: 0.06045, params: {'max_leaf_nodes': 8}]"
      ]
     },
     "execution_count": 54,
     "metadata": {},
     "output_type": "execute_result"
    }
   ],
   "source": [
    "gs.grid_scores_"
   ]
  },
  {
   "cell_type": "code",
   "execution_count": 55,
   "metadata": {
    "collapsed": false
   },
   "outputs": [
    {
     "name": "stdout",
     "output_type": "stream",
     "text": [
      "BEST {'max_leaf_nodes': 8} 0.737421296245\n"
     ]
    }
   ],
   "source": [
    "print(\"BEST\", gs.best_params_, gs.best_score_)"
   ]
  },
  {
   "cell_type": "code",
   "execution_count": 56,
   "metadata": {
    "collapsed": true
   },
   "outputs": [],
   "source": [
    "best = gs.best_estimator_  # the best model"
   ]
  },
  {
   "cell_type": "code",
   "execution_count": 57,
   "metadata": {
    "collapsed": false
   },
   "outputs": [
    {
     "name": "stdout",
     "output_type": "stream",
     "text": [
      "0.878378378378\n",
      "0.771812080537\n"
     ]
    }
   ],
   "source": [
    "best.fit(X_train, y_train)\n",
    "print(best.score(X_train, y_train)) # training accuracy\n",
    "print(best.score(X_test, y_test)) # test accuracy"
   ]
  },
  {
   "cell_type": "code",
   "execution_count": 58,
   "metadata": {
    "collapsed": true
   },
   "outputs": [],
   "source": [
    "clfbestclass = np.asarray(best.classes_, dtype=str)"
   ]
  },
  {
   "cell_type": "code",
   "execution_count": 59,
   "metadata": {
    "collapsed": false
   },
   "outputs": [
    {
     "data": {
      "image/svg+xml": [
       "<?xml version=\"1.0\" encoding=\"UTF-8\" standalone=\"no\"?>\n",
       "<!DOCTYPE svg PUBLIC \"-//W3C//DTD SVG 1.1//EN\"\n",
       " \"http://www.w3.org/Graphics/SVG/1.1/DTD/svg11.dtd\">\n",
       "<!-- Generated by graphviz version 2.38.0 (20140413.2041)\n",
       " -->\n",
       "<!-- Title: Tree Pages: 1 -->\n",
       "<svg width=\"657pt\" height=\"528pt\"\n",
       " viewBox=\"0.00 0.00 657.11 528.00\" xmlns=\"http://www.w3.org/2000/svg\" xmlns:xlink=\"http://www.w3.org/1999/xlink\">\n",
       "<g id=\"graph0\" class=\"graph\" transform=\"scale(1 1) rotate(0) translate(4 524)\">\n",
       "<title>Tree</title>\n",
       "<polygon fill=\"white\" stroke=\"none\" points=\"-4,4 -4,-524 653.106,-524 653.106,4 -4,4\"/>\n",
       "<!-- 0 -->\n",
       "<g id=\"node1\" class=\"node\"><title>0</title>\n",
       "<path fill=\"#e58139\" fill-opacity=\"0.078431\" stroke=\"black\" d=\"M434.796,-520C434.796,-520 343.759,-520 343.759,-520 337.759,-520 331.759,-514 331.759,-508 331.759,-508 331.759,-454 331.759,-454 331.759,-448 337.759,-442 343.759,-442 343.759,-442 434.796,-442 434.796,-442 440.796,-442 446.796,-448 446.796,-454 446.796,-454 446.796,-508 446.796,-508 446.796,-514 440.796,-520 434.796,-520\"/>\n",
       "<text text-anchor=\"start\" x=\"339.519\" y=\"-504.8\" font-family=\"Helvetica,sans-Serif\" font-size=\"14.00\">ChestPain ≤ 1.5</text>\n",
       "<text text-anchor=\"start\" x=\"348.993\" y=\"-490.8\" font-family=\"Helvetica,sans-Serif\" font-size=\"14.00\">gini = 0.4992</text>\n",
       "<text text-anchor=\"start\" x=\"343.555\" y=\"-476.8\" font-family=\"Helvetica,sans-Serif\" font-size=\"14.00\">samples = 148</text>\n",
       "<text text-anchor=\"start\" x=\"341.214\" y=\"-462.8\" font-family=\"Helvetica,sans-Serif\" font-size=\"14.00\">value = [77, 71]</text>\n",
       "<text text-anchor=\"start\" x=\"361.458\" y=\"-448.8\" font-family=\"Helvetica,sans-Serif\" font-size=\"14.00\">class = 0</text>\n",
       "</g>\n",
       "<!-- 1 -->\n",
       "<g id=\"node2\" class=\"node\"><title>1</title>\n",
       "<path fill=\"#399de5\" fill-opacity=\"0.611765\" stroke=\"black\" d=\"M368.404,-406C368.404,-406 280.15,-406 280.15,-406 274.15,-406 268.15,-400 268.15,-394 268.15,-394 268.15,-340 268.15,-340 268.15,-334 274.15,-328 280.15,-328 280.15,-328 368.404,-328 368.404,-328 374.404,-328 380.404,-334 380.404,-340 380.404,-340 380.404,-394 380.404,-394 380.404,-400 374.404,-406 368.404,-406\"/>\n",
       "<text text-anchor=\"start\" x=\"297.867\" y=\"-390.8\" font-family=\"Helvetica,sans-Serif\" font-size=\"14.00\">Ca ≤ 0.5</text>\n",
       "<text text-anchor=\"start\" x=\"283.993\" y=\"-376.8\" font-family=\"Helvetica,sans-Serif\" font-size=\"14.00\">gini = 0.4036</text>\n",
       "<text text-anchor=\"start\" x=\"282.448\" y=\"-362.8\" font-family=\"Helvetica,sans-Serif\" font-size=\"14.00\">samples = 82</text>\n",
       "<text text-anchor=\"start\" x=\"276.214\" y=\"-348.8\" font-family=\"Helvetica,sans-Serif\" font-size=\"14.00\">value = [23, 59]</text>\n",
       "<text text-anchor=\"start\" x=\"296.458\" y=\"-334.8\" font-family=\"Helvetica,sans-Serif\" font-size=\"14.00\">class = 1</text>\n",
       "</g>\n",
       "<!-- 0&#45;&gt;1 -->\n",
       "<g id=\"edge1\" class=\"edge\"><title>0&#45;&gt;1</title>\n",
       "<path fill=\"none\" stroke=\"black\" d=\"M367.09,-441.769C362.07,-433.119 356.683,-423.838 351.483,-414.877\"/>\n",
       "<polygon fill=\"black\" stroke=\"black\" points=\"354.412,-412.951 346.365,-406.058 348.357,-416.464 354.412,-412.951\"/>\n",
       "<text text-anchor=\"middle\" x=\"339.949\" y=\"-426.021\" font-family=\"Helvetica,sans-Serif\" font-size=\"14.00\">True</text>\n",
       "</g>\n",
       "<!-- 2 -->\n",
       "<g id=\"node9\" class=\"node\"><title>2</title>\n",
       "<path fill=\"#e58139\" fill-opacity=\"0.776471\" stroke=\"black\" d=\"M498.404,-406C498.404,-406 410.15,-406 410.15,-406 404.15,-406 398.15,-400 398.15,-394 398.15,-394 398.15,-340 398.15,-340 398.15,-334 404.15,-328 410.15,-328 410.15,-328 498.404,-328 498.404,-328 504.404,-328 510.404,-334 510.404,-340 510.404,-340 510.404,-394 510.404,-394 510.404,-400 504.404,-406 498.404,-406\"/>\n",
       "<text text-anchor=\"start\" x=\"410.743\" y=\"-390.8\" font-family=\"Helvetica,sans-Serif\" font-size=\"14.00\">Oldpeak ≤ 1.7</text>\n",
       "<text text-anchor=\"start\" x=\"413.993\" y=\"-376.8\" font-family=\"Helvetica,sans-Serif\" font-size=\"14.00\">gini = 0.2975</text>\n",
       "<text text-anchor=\"start\" x=\"412.448\" y=\"-362.8\" font-family=\"Helvetica,sans-Serif\" font-size=\"14.00\">samples = 66</text>\n",
       "<text text-anchor=\"start\" x=\"406.214\" y=\"-348.8\" font-family=\"Helvetica,sans-Serif\" font-size=\"14.00\">value = [54, 12]</text>\n",
       "<text text-anchor=\"start\" x=\"426.458\" y=\"-334.8\" font-family=\"Helvetica,sans-Serif\" font-size=\"14.00\">class = 0</text>\n",
       "</g>\n",
       "<!-- 0&#45;&gt;2 -->\n",
       "<g id=\"edge8\" class=\"edge\"><title>0&#45;&gt;2</title>\n",
       "<path fill=\"none\" stroke=\"black\" d=\"M411.465,-441.769C416.485,-433.119 421.871,-423.838 427.072,-414.877\"/>\n",
       "<polygon fill=\"black\" stroke=\"black\" points=\"430.197,-416.464 432.19,-406.058 424.143,-412.951 430.197,-416.464\"/>\n",
       "<text text-anchor=\"middle\" x=\"438.606\" y=\"-426.021\" font-family=\"Helvetica,sans-Serif\" font-size=\"14.00\">False</text>\n",
       "</g>\n",
       "<!-- 3 -->\n",
       "<g id=\"node3\" class=\"node\"><title>3</title>\n",
       "<path fill=\"#e58139\" fill-opacity=\"0.050980\" stroke=\"black\" d=\"M244.404,-292C244.404,-292 156.15,-292 156.15,-292 150.15,-292 144.15,-286 144.15,-280 144.15,-280 144.15,-226 144.15,-226 144.15,-220 150.15,-214 156.15,-214 156.15,-214 244.404,-214 244.404,-214 250.404,-214 256.404,-220 256.404,-226 256.404,-226 256.404,-280 256.404,-280 256.404,-286 250.404,-292 244.404,-292\"/>\n",
       "<text text-anchor=\"start\" x=\"169.198\" y=\"-276.8\" font-family=\"Helvetica,sans-Serif\" font-size=\"14.00\">Thal ≤ 1.5</text>\n",
       "<text text-anchor=\"start\" x=\"159.993\" y=\"-262.8\" font-family=\"Helvetica,sans-Serif\" font-size=\"14.00\">gini = 0.4996</text>\n",
       "<text text-anchor=\"start\" x=\"158.448\" y=\"-248.8\" font-family=\"Helvetica,sans-Serif\" font-size=\"14.00\">samples = 37</text>\n",
       "<text text-anchor=\"start\" x=\"152.214\" y=\"-234.8\" font-family=\"Helvetica,sans-Serif\" font-size=\"14.00\">value = [19, 18]</text>\n",
       "<text text-anchor=\"start\" x=\"172.458\" y=\"-220.8\" font-family=\"Helvetica,sans-Serif\" font-size=\"14.00\">class = 0</text>\n",
       "</g>\n",
       "<!-- 1&#45;&gt;3 -->\n",
       "<g id=\"edge2\" class=\"edge\"><title>1&#45;&gt;3</title>\n",
       "<path fill=\"none\" stroke=\"black\" d=\"M281.95,-327.769C271.675,-318.488 260.596,-308.481 250.013,-298.923\"/>\n",
       "<polygon fill=\"black\" stroke=\"black\" points=\"252.181,-296.164 242.414,-292.058 247.489,-301.359 252.181,-296.164\"/>\n",
       "</g>\n",
       "<!-- 4 -->\n",
       "<g id=\"node8\" class=\"node\"><title>4</title>\n",
       "<path fill=\"#399de5\" fill-opacity=\"0.901961\" stroke=\"black\" d=\"M366.619,-285C366.619,-285 285.936,-285 285.936,-285 279.936,-285 273.936,-279 273.936,-273 273.936,-273 273.936,-233 273.936,-233 273.936,-227 279.936,-221 285.936,-221 285.936,-221 366.619,-221 366.619,-221 372.619,-221 378.619,-227 378.619,-233 378.619,-233 378.619,-273 378.619,-273 378.619,-279 372.619,-285 366.619,-285\"/>\n",
       "<text text-anchor=\"start\" x=\"289.886\" y=\"-269.8\" font-family=\"Helvetica,sans-Serif\" font-size=\"14.00\">gini = 0.162</text>\n",
       "<text text-anchor=\"start\" x=\"284.448\" y=\"-255.8\" font-family=\"Helvetica,sans-Serif\" font-size=\"14.00\">samples = 45</text>\n",
       "<text text-anchor=\"start\" x=\"282.107\" y=\"-241.8\" font-family=\"Helvetica,sans-Serif\" font-size=\"14.00\">value = [4, 41]</text>\n",
       "<text text-anchor=\"start\" x=\"298.458\" y=\"-227.8\" font-family=\"Helvetica,sans-Serif\" font-size=\"14.00\">class = 1</text>\n",
       "</g>\n",
       "<!-- 1&#45;&gt;4 -->\n",
       "<g id=\"edge7\" class=\"edge\"><title>1&#45;&gt;4</title>\n",
       "<path fill=\"none\" stroke=\"black\" d=\"M324.96,-327.769C325.147,-317.313 325.35,-305.935 325.54,-295.315\"/>\n",
       "<polygon fill=\"black\" stroke=\"black\" points=\"329.044,-295.071 325.724,-285.01 322.046,-294.946 329.044,-295.071\"/>\n",
       "</g>\n",
       "<!-- 5 -->\n",
       "<g id=\"node4\" class=\"node\"><title>5</title>\n",
       "<path fill=\"#e58139\" fill-opacity=\"0.686275\" stroke=\"black\" d=\"M151.943,-178C151.943,-178 62.6112,-178 62.6112,-178 56.6112,-178 50.6112,-172 50.6112,-166 50.6112,-166 50.6112,-112 50.6112,-112 50.6112,-106 56.6112,-100 62.6112,-100 62.6112,-100 151.943,-100 151.943,-100 157.943,-100 163.943,-106 163.943,-112 163.943,-112 163.943,-166 163.943,-166 163.943,-172 157.943,-178 151.943,-178\"/>\n",
       "<text text-anchor=\"start\" x=\"58.6943\" y=\"-162.8\" font-family=\"Helvetica,sans-Serif\" font-size=\"14.00\">MaxHR ≤ 128.0</text>\n",
       "<text text-anchor=\"start\" x=\"66.9932\" y=\"-148.8\" font-family=\"Helvetica,sans-Serif\" font-size=\"14.00\">gini = 0.3628</text>\n",
       "<text text-anchor=\"start\" x=\"65.4482\" y=\"-134.8\" font-family=\"Helvetica,sans-Serif\" font-size=\"14.00\">samples = 21</text>\n",
       "<text text-anchor=\"start\" x=\"63.1069\" y=\"-120.8\" font-family=\"Helvetica,sans-Serif\" font-size=\"14.00\">value = [16, 5]</text>\n",
       "<text text-anchor=\"start\" x=\"79.4585\" y=\"-106.8\" font-family=\"Helvetica,sans-Serif\" font-size=\"14.00\">class = 0</text>\n",
       "</g>\n",
       "<!-- 3&#45;&gt;5 -->\n",
       "<g id=\"edge3\" class=\"edge\"><title>3&#45;&gt;5</title>\n",
       "<path fill=\"none\" stroke=\"black\" d=\"M168.532,-213.769C161.05,-204.759 153,-195.064 145.274,-185.759\"/>\n",
       "<polygon fill=\"black\" stroke=\"black\" points=\"147.961,-183.516 138.879,-178.058 142.575,-187.988 147.961,-183.516\"/>\n",
       "</g>\n",
       "<!-- 6 -->\n",
       "<g id=\"node7\" class=\"node\"><title>6</title>\n",
       "<path fill=\"#399de5\" fill-opacity=\"0.768627\" stroke=\"black\" d=\"M274.619,-171C274.619,-171 193.936,-171 193.936,-171 187.936,-171 181.936,-165 181.936,-159 181.936,-159 181.936,-119 181.936,-119 181.936,-113 187.936,-107 193.936,-107 193.936,-107 274.619,-107 274.619,-107 280.619,-107 286.619,-113 286.619,-119 286.619,-119 286.619,-159 286.619,-159 286.619,-165 280.619,-171 274.619,-171\"/>\n",
       "<text text-anchor=\"start\" x=\"193.993\" y=\"-155.8\" font-family=\"Helvetica,sans-Serif\" font-size=\"14.00\">gini = 0.3047</text>\n",
       "<text text-anchor=\"start\" x=\"192.448\" y=\"-141.8\" font-family=\"Helvetica,sans-Serif\" font-size=\"14.00\">samples = 16</text>\n",
       "<text text-anchor=\"start\" x=\"190.107\" y=\"-127.8\" font-family=\"Helvetica,sans-Serif\" font-size=\"14.00\">value = [3, 13]</text>\n",
       "<text text-anchor=\"start\" x=\"206.458\" y=\"-113.8\" font-family=\"Helvetica,sans-Serif\" font-size=\"14.00\">class = 1</text>\n",
       "</g>\n",
       "<!-- 3&#45;&gt;6 -->\n",
       "<g id=\"edge6\" class=\"edge\"><title>3&#45;&gt;6</title>\n",
       "<path fill=\"none\" stroke=\"black\" d=\"M211.883,-213.769C215.123,-203.095 218.655,-191.461 221.936,-180.652\"/>\n",
       "<polygon fill=\"black\" stroke=\"black\" points=\"225.308,-181.596 224.864,-171.01 218.61,-179.562 225.308,-181.596\"/>\n",
       "</g>\n",
       "<!-- 7 -->\n",
       "<g id=\"node5\" class=\"node\"><title>7</title>\n",
       "<path fill=\"#399de5\" fill-opacity=\"0.749020\" stroke=\"black\" d=\"M84.3331,-64C84.3331,-64 12.2216,-64 12.2216,-64 6.22163,-64 0.221634,-58 0.221634,-52 0.221634,-52 0.221634,-12 0.221634,-12 0.221634,-6 6.22163,-0 12.2216,-0 12.2216,-0 84.3331,-0 84.3331,-0 90.3331,-0 96.3331,-6 96.3331,-12 96.3331,-12 96.3331,-52 96.3331,-52 96.3331,-58 90.3331,-64 84.3331,-64\"/>\n",
       "<text text-anchor=\"start\" x=\"15.7793\" y=\"-48.8\" font-family=\"Helvetica,sans-Serif\" font-size=\"14.00\">gini = 0.32</text>\n",
       "<text text-anchor=\"start\" x=\"10.3413\" y=\"-34.8\" font-family=\"Helvetica,sans-Serif\" font-size=\"14.00\">samples = 5</text>\n",
       "<text text-anchor=\"start\" x=\"8\" y=\"-20.8\" font-family=\"Helvetica,sans-Serif\" font-size=\"14.00\">value = [1, 4]</text>\n",
       "<text text-anchor=\"start\" x=\"20.4585\" y=\"-6.8\" font-family=\"Helvetica,sans-Serif\" font-size=\"14.00\">class = 1</text>\n",
       "</g>\n",
       "<!-- 5&#45;&gt;7 -->\n",
       "<g id=\"edge4\" class=\"edge\"><title>5&#45;&gt;7</title>\n",
       "<path fill=\"none\" stroke=\"black\" d=\"M85.8101,-99.7956C80.9193,-91.0916 75.7097,-81.8203 70.7772,-73.042\"/>\n",
       "<polygon fill=\"black\" stroke=\"black\" points=\"73.7122,-71.1206 65.7622,-64.1172 67.6097,-74.5497 73.7122,-71.1206\"/>\n",
       "</g>\n",
       "<!-- 8 -->\n",
       "<g id=\"node6\" class=\"node\"><title>8</title>\n",
       "<path fill=\"#e58139\" fill-opacity=\"0.933333\" stroke=\"black\" d=\"M206.619,-64C206.619,-64 125.936,-64 125.936,-64 119.936,-64 113.936,-58 113.936,-52 113.936,-52 113.936,-12 113.936,-12 113.936,-6 119.936,-0 125.936,-0 125.936,-0 206.619,-0 206.619,-0 212.619,-0 218.619,-6 218.619,-12 218.619,-12 218.619,-52 218.619,-52 218.619,-58 212.619,-64 206.619,-64\"/>\n",
       "<text text-anchor=\"start\" x=\"126.509\" y=\"-48.8\" font-family=\"Helvetica,sans-Serif\" font-size=\"14.00\">gini = 0.1172</text>\n",
       "<text text-anchor=\"start\" x=\"124.448\" y=\"-34.8\" font-family=\"Helvetica,sans-Serif\" font-size=\"14.00\">samples = 16</text>\n",
       "<text text-anchor=\"start\" x=\"122.107\" y=\"-20.8\" font-family=\"Helvetica,sans-Serif\" font-size=\"14.00\">value = [15, 1]</text>\n",
       "<text text-anchor=\"start\" x=\"138.458\" y=\"-6.8\" font-family=\"Helvetica,sans-Serif\" font-size=\"14.00\">class = 0</text>\n",
       "</g>\n",
       "<!-- 5&#45;&gt;8 -->\n",
       "<g id=\"edge5\" class=\"edge\"><title>5&#45;&gt;8</title>\n",
       "<path fill=\"none\" stroke=\"black\" d=\"M128.745,-99.7956C133.635,-91.0916 138.845,-81.8203 143.778,-73.042\"/>\n",
       "<polygon fill=\"black\" stroke=\"black\" points=\"146.945,-74.5497 148.792,-64.1172 140.842,-71.1206 146.945,-74.5497\"/>\n",
       "</g>\n",
       "<!-- 9 -->\n",
       "<g id=\"node10\" class=\"node\"><title>9</title>\n",
       "<path fill=\"#e58139\" fill-opacity=\"0.850980\" stroke=\"black\" d=\"M492.619,-292C492.619,-292 411.936,-292 411.936,-292 405.936,-292 399.936,-286 399.936,-280 399.936,-280 399.936,-226 399.936,-226 399.936,-220 405.936,-214 411.936,-214 411.936,-214 492.619,-214 492.619,-214 498.619,-214 504.619,-220 504.619,-226 504.619,-226 504.619,-280 504.619,-280 504.619,-286 498.619,-292 492.619,-292\"/>\n",
       "<text text-anchor=\"start\" x=\"418.467\" y=\"-276.8\" font-family=\"Helvetica,sans-Serif\" font-size=\"14.00\">Age ≤ 56.5</text>\n",
       "<text text-anchor=\"start\" x=\"411.993\" y=\"-262.8\" font-family=\"Helvetica,sans-Serif\" font-size=\"14.00\">gini = 0.2279</text>\n",
       "<text text-anchor=\"start\" x=\"410.448\" y=\"-248.8\" font-family=\"Helvetica,sans-Serif\" font-size=\"14.00\">samples = 61</text>\n",
       "<text text-anchor=\"start\" x=\"408.107\" y=\"-234.8\" font-family=\"Helvetica,sans-Serif\" font-size=\"14.00\">value = [53, 8]</text>\n",
       "<text text-anchor=\"start\" x=\"424.458\" y=\"-220.8\" font-family=\"Helvetica,sans-Serif\" font-size=\"14.00\">class = 0</text>\n",
       "</g>\n",
       "<!-- 2&#45;&gt;9 -->\n",
       "<g id=\"edge9\" class=\"edge\"><title>2&#45;&gt;9</title>\n",
       "<path fill=\"none\" stroke=\"black\" d=\"M453.595,-327.769C453.448,-319.57 453.292,-310.803 453.139,-302.28\"/>\n",
       "<polygon fill=\"black\" stroke=\"black\" points=\"456.635,-301.994 452.957,-292.058 449.636,-302.119 456.635,-301.994\"/>\n",
       "</g>\n",
       "<!-- 10 -->\n",
       "<g id=\"node15\" class=\"node\"><title>10</title>\n",
       "<path fill=\"#399de5\" fill-opacity=\"0.749020\" stroke=\"black\" d=\"M606.333,-285C606.333,-285 534.222,-285 534.222,-285 528.222,-285 522.222,-279 522.222,-273 522.222,-273 522.222,-233 522.222,-233 522.222,-227 528.222,-221 534.222,-221 534.222,-221 606.333,-221 606.333,-221 612.333,-221 618.333,-227 618.333,-233 618.333,-233 618.333,-273 618.333,-273 618.333,-279 612.333,-285 606.333,-285\"/>\n",
       "<text text-anchor=\"start\" x=\"537.779\" y=\"-269.8\" font-family=\"Helvetica,sans-Serif\" font-size=\"14.00\">gini = 0.32</text>\n",
       "<text text-anchor=\"start\" x=\"532.341\" y=\"-255.8\" font-family=\"Helvetica,sans-Serif\" font-size=\"14.00\">samples = 5</text>\n",
       "<text text-anchor=\"start\" x=\"530\" y=\"-241.8\" font-family=\"Helvetica,sans-Serif\" font-size=\"14.00\">value = [1, 4]</text>\n",
       "<text text-anchor=\"start\" x=\"542.458\" y=\"-227.8\" font-family=\"Helvetica,sans-Serif\" font-size=\"14.00\">class = 1</text>\n",
       "</g>\n",
       "<!-- 2&#45;&gt;10 -->\n",
       "<g id=\"edge14\" class=\"edge\"><title>2&#45;&gt;10</title>\n",
       "<path fill=\"none\" stroke=\"black\" d=\"M493.874,-327.769C505.831,-316.224 518.953,-303.555 530.896,-292.023\"/>\n",
       "<polygon fill=\"black\" stroke=\"black\" points=\"533.397,-294.474 538.16,-285.01 528.535,-289.438 533.397,-294.474\"/>\n",
       "</g>\n",
       "<!-- 11 -->\n",
       "<g id=\"node11\" class=\"node\"><title>11</title>\n",
       "<path fill=\"#e58139\" fill-opacity=\"0.949020\" stroke=\"black\" d=\"M459.619,-171C459.619,-171 378.936,-171 378.936,-171 372.936,-171 366.936,-165 366.936,-159 366.936,-159 366.936,-119 366.936,-119 366.936,-113 372.936,-107 378.936,-107 378.936,-107 459.619,-107 459.619,-107 465.619,-107 471.619,-113 471.619,-119 471.619,-119 471.619,-159 471.619,-159 471.619,-165 465.619,-171 459.619,-171\"/>\n",
       "<text text-anchor=\"start\" x=\"378.993\" y=\"-155.8\" font-family=\"Helvetica,sans-Serif\" font-size=\"14.00\">gini = 0.0907</text>\n",
       "<text text-anchor=\"start\" x=\"377.448\" y=\"-141.8\" font-family=\"Helvetica,sans-Serif\" font-size=\"14.00\">samples = 42</text>\n",
       "<text text-anchor=\"start\" x=\"375.107\" y=\"-127.8\" font-family=\"Helvetica,sans-Serif\" font-size=\"14.00\">value = [40, 2]</text>\n",
       "<text text-anchor=\"start\" x=\"391.458\" y=\"-113.8\" font-family=\"Helvetica,sans-Serif\" font-size=\"14.00\">class = 0</text>\n",
       "</g>\n",
       "<!-- 9&#45;&gt;11 -->\n",
       "<g id=\"edge10\" class=\"edge\"><title>9&#45;&gt;11</title>\n",
       "<path fill=\"none\" stroke=\"black\" d=\"M441.013,-213.769C437.868,-203.095 434.44,-191.461 431.255,-180.652\"/>\n",
       "<polygon fill=\"black\" stroke=\"black\" points=\"434.598,-179.613 428.414,-171.01 427.883,-181.592 434.598,-179.613\"/>\n",
       "</g>\n",
       "<!-- 12 -->\n",
       "<g id=\"node12\" class=\"node\"><title>12</title>\n",
       "<path fill=\"#e58139\" fill-opacity=\"0.537255\" stroke=\"black\" d=\"M581.619,-178C581.619,-178 500.936,-178 500.936,-178 494.936,-178 488.936,-172 488.936,-166 488.936,-166 488.936,-112 488.936,-112 488.936,-106 494.936,-100 500.936,-100 500.936,-100 581.619,-100 581.619,-100 587.619,-100 593.619,-106 593.619,-112 593.619,-112 593.619,-166 593.619,-166 593.619,-172 587.619,-178 581.619,-178\"/>\n",
       "<text text-anchor=\"start\" x=\"501.632\" y=\"-162.8\" font-family=\"Helvetica,sans-Serif\" font-size=\"14.00\">Chol ≤ 210.0</text>\n",
       "<text text-anchor=\"start\" x=\"500.993\" y=\"-148.8\" font-family=\"Helvetica,sans-Serif\" font-size=\"14.00\">gini = 0.4321</text>\n",
       "<text text-anchor=\"start\" x=\"499.448\" y=\"-134.8\" font-family=\"Helvetica,sans-Serif\" font-size=\"14.00\">samples = 19</text>\n",
       "<text text-anchor=\"start\" x=\"497.107\" y=\"-120.8\" font-family=\"Helvetica,sans-Serif\" font-size=\"14.00\">value = [13, 6]</text>\n",
       "<text text-anchor=\"start\" x=\"513.458\" y=\"-106.8\" font-family=\"Helvetica,sans-Serif\" font-size=\"14.00\">class = 0</text>\n",
       "</g>\n",
       "<!-- 9&#45;&gt;12 -->\n",
       "<g id=\"edge11\" class=\"edge\"><title>9&#45;&gt;12</title>\n",
       "<path fill=\"none\" stroke=\"black\" d=\"M482.657,-213.769C489.746,-204.849 497.367,-195.257 504.693,-186.038\"/>\n",
       "<polygon fill=\"black\" stroke=\"black\" points=\"507.553,-188.065 511.034,-178.058 502.073,-183.71 507.553,-188.065\"/>\n",
       "</g>\n",
       "<!-- 13 -->\n",
       "<g id=\"node13\" class=\"node\"><title>13</title>\n",
       "<path fill=\"#e58139\" stroke=\"black\" d=\"M519.333,-64C519.333,-64 447.222,-64 447.222,-64 441.222,-64 435.222,-58 435.222,-52 435.222,-52 435.222,-12 435.222,-12 435.222,-6 441.222,-0 447.222,-0 447.222,-0 519.333,-0 519.333,-0 525.333,-0 531.333,-6 531.333,-12 531.333,-12 531.333,-52 531.333,-52 531.333,-58 525.333,-64 519.333,-64\"/>\n",
       "<text text-anchor=\"start\" x=\"454.672\" y=\"-48.8\" font-family=\"Helvetica,sans-Serif\" font-size=\"14.00\">gini = 0.0</text>\n",
       "<text text-anchor=\"start\" x=\"445.341\" y=\"-34.8\" font-family=\"Helvetica,sans-Serif\" font-size=\"14.00\">samples = 6</text>\n",
       "<text text-anchor=\"start\" x=\"443\" y=\"-20.8\" font-family=\"Helvetica,sans-Serif\" font-size=\"14.00\">value = [6, 0]</text>\n",
       "<text text-anchor=\"start\" x=\"455.458\" y=\"-6.8\" font-family=\"Helvetica,sans-Serif\" font-size=\"14.00\">class = 0</text>\n",
       "</g>\n",
       "<!-- 12&#45;&gt;13 -->\n",
       "<g id=\"edge12\" class=\"edge\"><title>12&#45;&gt;13</title>\n",
       "<path fill=\"none\" stroke=\"black\" d=\"M520.174,-99.7956C515.366,-91.0916 510.245,-81.8203 505.396,-73.042\"/>\n",
       "<polygon fill=\"black\" stroke=\"black\" points=\"508.365,-71.1782 500.466,-64.1172 502.237,-74.5629 508.365,-71.1782\"/>\n",
       "</g>\n",
       "<!-- 14 -->\n",
       "<g id=\"node14\" class=\"node\"><title>14</title>\n",
       "<path fill=\"#e58139\" fill-opacity=\"0.141176\" stroke=\"black\" d=\"M636.936,-64C636.936,-64 561.619,-64 561.619,-64 555.619,-64 549.619,-58 549.619,-52 549.619,-52 549.619,-12 549.619,-12 549.619,-6 555.619,-0 561.619,-0 561.619,-0 636.936,-0 636.936,-0 642.936,-0 648.936,-6 648.936,-12 648.936,-12 648.936,-52 648.936,-52 648.936,-58 642.936,-64 636.936,-64\"/>\n",
       "<text text-anchor=\"start\" x=\"562.886\" y=\"-48.8\" font-family=\"Helvetica,sans-Serif\" font-size=\"14.00\">gini = 0.497</text>\n",
       "<text text-anchor=\"start\" x=\"557.448\" y=\"-34.8\" font-family=\"Helvetica,sans-Serif\" font-size=\"14.00\">samples = 13</text>\n",
       "<text text-anchor=\"start\" x=\"559\" y=\"-20.8\" font-family=\"Helvetica,sans-Serif\" font-size=\"14.00\">value = [7, 6]</text>\n",
       "<text text-anchor=\"start\" x=\"571.458\" y=\"-6.8\" font-family=\"Helvetica,sans-Serif\" font-size=\"14.00\">class = 0</text>\n",
       "</g>\n",
       "<!-- 12&#45;&gt;14 -->\n",
       "<g id=\"edge13\" class=\"edge\"><title>12&#45;&gt;14</title>\n",
       "<path fill=\"none\" stroke=\"black\" d=\"M562.381,-99.7956C567.189,-91.0916 572.31,-81.8203 577.159,-73.042\"/>\n",
       "<polygon fill=\"black\" stroke=\"black\" points=\"580.317,-74.5629 582.089,-64.1172 574.19,-71.1782 580.317,-74.5629\"/>\n",
       "</g>\n",
       "</g>\n",
       "</svg>\n"
      ],
      "text/plain": [
       "<graphviz.files.Source at 0x119f62cc0>"
      ]
     },
     "execution_count": 59,
     "metadata": {},
     "output_type": "execute_result"
    }
   ],
   "source": [
    "export_graphviz(best, out_file=\"mytree.dot\", feature_names=X_train.columns, class_names=clfclass, \n",
    "                filled=True, rounded=True, special_characters=True)\n",
    "with open(\"mytree.dot\") as f:\n",
    "    dot_graph = f.read()\n",
    "graphviz.Source(dot_graph)"
   ]
  },
  {
   "cell_type": "code",
   "execution_count": 60,
   "metadata": {
    "collapsed": false
   },
   "outputs": [
    {
     "name": "stdout",
     "output_type": "stream",
     "text": [
      "     No  Yes\n",
      "No   63   14\n",
      "Yes  20   52\n"
     ]
    }
   ],
   "source": [
    "predbest = best.predict(X_test)\n",
    "predprobbest = best.predict_proba(X_test)\n",
    "cmbest = pd.DataFrame(confusion_matrix(y_test, predbest).T, index=['No', 'Yes'], columns=['No', 'Yes'])\n",
    "print(cmbest)"
   ]
  },
  {
   "cell_type": "code",
   "execution_count": 61,
   "metadata": {
    "collapsed": true
   },
   "outputs": [],
   "source": [
    "fpr1, tpr1, thresholds1=roc_curve(y_test, predprobbest[:,1])"
   ]
  },
  {
   "cell_type": "code",
   "execution_count": 62,
   "metadata": {
    "collapsed": false
   },
   "outputs": [
    {
     "data": {
      "text/plain": [
       "<matplotlib.text.Text at 0x11aac6cf8>"
      ]
     },
     "execution_count": 62,
     "metadata": {},
     "output_type": "execute_result"
    },
    {
     "data": {
      "image/png": "[encoded data removed]",
      "text/plain": [
       "<matplotlib.figure.Figure at 0x11a69de10>"
      ]
     },
     "metadata": {},
     "output_type": "display_data"
    }
   ],
   "source": [
    "ax=plt.gca()\n",
    "ax.plot(fpr1, tpr1)\n",
    "ax.plot([0, 1], [0, 1], 'k--')\n",
    "ax.set_xlim([0.0, 1.0])\n",
    "ax.set_ylim([0.0, 1.05])\n",
    "ax.set_xlabel('False Positive Rate')\n",
    "ax.set_ylabel('True Positive Rate')\n",
    "ax.set_title('ROC')"
   ]
  },
  {
   "cell_type": "code",
   "execution_count": 63,
   "metadata": {
    "collapsed": false
   },
   "outputs": [
    {
     "name": "stdout",
     "output_type": "stream",
     "text": [
      "0.836801752464\n"
     ]
    }
   ],
   "source": [
    "roc_auc = auc(fpr1, tpr1)\n",
    "print(roc_auc)"
   ]
  }
 ],
 "metadata": {
  "anaconda-cloud": {},
  "kernelspec": {
   "display_name": "Python [Root]",
   "language": "python",
   "name": "Python [Root]"
  },
  "language_info": {
   "codemirror_mode": {
    "name": "ipython",
    "version": 3
   },
   "file_extension": ".py",
   "mimetype": "text/x-python",
   "name": "python",
   "nbconvert_exporter": "python",
   "pygments_lexer": "ipython3",
   "version": "3.5.2"
  }
 },
 "nbformat": 4,
 "nbformat_minor": 0
}
