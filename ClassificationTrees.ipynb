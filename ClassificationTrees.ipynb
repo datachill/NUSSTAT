{
 "cells": [
  {
   "cell_type": "code",
   "execution_count": null,
   "metadata": {
    "collapsed": true
   },
   "outputs": [],
   "source": [
    "##########################################################\n",
    "# DSC5103 Statistics\n",
    "# Session 9. Trees I\n",
    "# 2016.12\n",
    "#\n",
    "# run decision tree using the tree() and cv.tree() function in the \"tree\" package\n",
    "# demo for Regression trees\n",
    "# using the Hitters dataset in package \"ISLR\"\n",
    "##########################################################"
   ]
  },
  {
   "cell_type": "code",
   "execution_count": 1,
   "metadata": {
    "collapsed": false
   },
   "outputs": [],
   "source": [
    "import pandas as pd\n",
    "import numpy as np\n",
    "import matplotlib as mpl\n",
    "import matplotlib.pyplot as plt\n",
    "import graphviz\n",
    "import seaborn as sns\n",
    "from sklearn.cross_validation import train_test_split\n",
    "from sklearn.tree import DecisionTreeRegressor, DecisionTreeClassifier, export_graphviz\n",
    "from sklearn.ensemble import RandomForestRegressor, GradientBoostingRegressor\n",
    "from sklearn.metrics import confusion_matrix, mean_squared_error\n",
    "\n",
    "%matplotlib inline"
   ]
  },
  {
   "cell_type": "code",
   "execution_count": 2,
   "metadata": {
    "collapsed": false
   },
   "outputs": [
    {
     "name": "stdout",
     "output_type": "stream",
     "text": [
      "<class 'pandas.core.frame.DataFrame'>\n",
      "Int64Index: 297 entries, 0 to 301\n",
      "Data columns (total 15 columns):\n",
      "Unnamed: 0    297 non-null int64\n",
      "Age           297 non-null int64\n",
      "Sex           297 non-null int64\n",
      "ChestPain     297 non-null object\n",
      "RestBP        297 non-null int64\n",
      "Chol          297 non-null int64\n",
      "Fbs           297 non-null int64\n",
      "RestECG       297 non-null int64\n",
      "MaxHR         297 non-null int64\n",
      "ExAng         297 non-null int64\n",
      "Oldpeak       297 non-null float64\n",
      "Slope         297 non-null int64\n",
      "Ca            297 non-null float64\n",
      "Thal          297 non-null object\n",
      "AHD           297 non-null object\n",
      "dtypes: float64(2), int64(10), object(3)\n",
      "memory usage: 37.1+ KB\n"
     ]
    }
   ],
   "source": [
    "## remove na values\n",
    "df = pd.read_csv('Heart.csv').dropna()\n",
    "df.info()"
   ]
  },
  {
   "cell_type": "code",
   "execution_count": 3,
   "metadata": {
    "collapsed": false
   },
   "outputs": [
    {
     "data": {
      "text/html": [
       "<div>\n",
       "<table border=\"1\" class=\"dataframe\">\n",
       "  <thead>\n",
       "    <tr style=\"text-align: right;\">\n",
       "      <th></th>\n",
       "      <th>Unnamed: 0</th>\n",
       "      <th>Age</th>\n",
       "      <th>Sex</th>\n",
       "      <th>ChestPain</th>\n",
       "      <th>RestBP</th>\n",
       "      <th>Chol</th>\n",
       "      <th>Fbs</th>\n",
       "      <th>RestECG</th>\n",
       "      <th>MaxHR</th>\n",
       "      <th>ExAng</th>\n",
       "      <th>Oldpeak</th>\n",
       "      <th>Slope</th>\n",
       "      <th>Ca</th>\n",
       "      <th>Thal</th>\n",
       "      <th>AHD</th>\n",
       "    </tr>\n",
       "  </thead>\n",
       "  <tbody>\n",
       "    <tr>\n",
       "      <th>0</th>\n",
       "      <td>1</td>\n",
       "      <td>63</td>\n",
       "      <td>1</td>\n",
       "      <td>typical</td>\n",
       "      <td>145</td>\n",
       "      <td>233</td>\n",
       "      <td>1</td>\n",
       "      <td>2</td>\n",
       "      <td>150</td>\n",
       "      <td>0</td>\n",
       "      <td>2.3</td>\n",
       "      <td>3</td>\n",
       "      <td>0.0</td>\n",
       "      <td>fixed</td>\n",
       "      <td>No</td>\n",
       "    </tr>\n",
       "    <tr>\n",
       "      <th>1</th>\n",
       "      <td>2</td>\n",
       "      <td>67</td>\n",
       "      <td>1</td>\n",
       "      <td>asymptomatic</td>\n",
       "      <td>160</td>\n",
       "      <td>286</td>\n",
       "      <td>0</td>\n",
       "      <td>2</td>\n",
       "      <td>108</td>\n",
       "      <td>1</td>\n",
       "      <td>1.5</td>\n",
       "      <td>2</td>\n",
       "      <td>3.0</td>\n",
       "      <td>normal</td>\n",
       "      <td>Yes</td>\n",
       "    </tr>\n",
       "    <tr>\n",
       "      <th>2</th>\n",
       "      <td>3</td>\n",
       "      <td>67</td>\n",
       "      <td>1</td>\n",
       "      <td>asymptomatic</td>\n",
       "      <td>120</td>\n",
       "      <td>229</td>\n",
       "      <td>0</td>\n",
       "      <td>2</td>\n",
       "      <td>129</td>\n",
       "      <td>1</td>\n",
       "      <td>2.6</td>\n",
       "      <td>2</td>\n",
       "      <td>2.0</td>\n",
       "      <td>reversable</td>\n",
       "      <td>Yes</td>\n",
       "    </tr>\n",
       "    <tr>\n",
       "      <th>3</th>\n",
       "      <td>4</td>\n",
       "      <td>37</td>\n",
       "      <td>1</td>\n",
       "      <td>nonanginal</td>\n",
       "      <td>130</td>\n",
       "      <td>250</td>\n",
       "      <td>0</td>\n",
       "      <td>0</td>\n",
       "      <td>187</td>\n",
       "      <td>0</td>\n",
       "      <td>3.5</td>\n",
       "      <td>3</td>\n",
       "      <td>0.0</td>\n",
       "      <td>normal</td>\n",
       "      <td>No</td>\n",
       "    </tr>\n",
       "    <tr>\n",
       "      <th>4</th>\n",
       "      <td>5</td>\n",
       "      <td>41</td>\n",
       "      <td>0</td>\n",
       "      <td>nontypical</td>\n",
       "      <td>130</td>\n",
       "      <td>204</td>\n",
       "      <td>0</td>\n",
       "      <td>2</td>\n",
       "      <td>172</td>\n",
       "      <td>0</td>\n",
       "      <td>1.4</td>\n",
       "      <td>1</td>\n",
       "      <td>0.0</td>\n",
       "      <td>normal</td>\n",
       "      <td>No</td>\n",
       "    </tr>\n",
       "  </tbody>\n",
       "</table>\n",
       "</div>"
      ],
      "text/plain": [
       "   Unnamed: 0  Age  Sex     ChestPain  RestBP  Chol  Fbs  RestECG  MaxHR  \\\n",
       "0           1   63    1       typical     145   233    1        2    150   \n",
       "1           2   67    1  asymptomatic     160   286    0        2    108   \n",
       "2           3   67    1  asymptomatic     120   229    0        2    129   \n",
       "3           4   37    1    nonanginal     130   250    0        0    187   \n",
       "4           5   41    0    nontypical     130   204    0        2    172   \n",
       "\n",
       "   ExAng  Oldpeak  Slope   Ca        Thal  AHD  \n",
       "0      0      2.3      3  0.0       fixed   No  \n",
       "1      1      1.5      2  3.0      normal  Yes  \n",
       "2      1      2.6      2  2.0  reversable  Yes  \n",
       "3      0      3.5      3  0.0      normal   No  \n",
       "4      0      1.4      1  0.0      normal   No  "
      ]
     },
     "execution_count": 3,
     "metadata": {},
     "output_type": "execute_result"
    }
   ],
   "source": [
    "df.head()"
   ]
  },
  {
   "cell_type": "code",
   "execution_count": 4,
   "metadata": {
    "collapsed": false
   },
   "outputs": [],
   "source": [
    "df = df.drop('Unnamed: 0', axis=1)"
   ]
  },
  {
   "cell_type": "code",
   "execution_count": 5,
   "metadata": {
    "collapsed": false
   },
   "outputs": [
    {
     "name": "stdout",
     "output_type": "stream",
     "text": [
      "<class 'pandas.core.frame.DataFrame'>\n",
      "Int64Index: 297 entries, 0 to 301\n",
      "Data columns (total 14 columns):\n",
      "Age          297 non-null int64\n",
      "Sex          297 non-null int64\n",
      "ChestPain    297 non-null int64\n",
      "RestBP       297 non-null int64\n",
      "Chol         297 non-null int64\n",
      "Fbs          297 non-null int64\n",
      "RestECG      297 non-null int64\n",
      "MaxHR        297 non-null int64\n",
      "ExAng        297 non-null int64\n",
      "Oldpeak      297 non-null float64\n",
      "Slope        297 non-null int64\n",
      "Ca           297 non-null float64\n",
      "Thal         297 non-null int64\n",
      "AHD          297 non-null int64\n",
      "dtypes: float64(2), int64(12)\n",
      "memory usage: 34.8 KB\n"
     ]
    }
   ],
   "source": [
    "df.ChestPain = pd.factorize(df.ChestPain)[0]\n",
    "df.Thal = pd.factorize(df.Thal)[0]\n",
    "df.AHD = df.AHD.map({'No':0, 'Yes':1})\n",
    "df.info()"
   ]
  },
  {
   "cell_type": "code",
   "execution_count": 6,
   "metadata": {
    "collapsed": false
   },
   "outputs": [],
   "source": [
    "# split training and test data 50/50\n",
    "X = df.drop('AHD', axis=1)\n",
    "y = df.AHD\n",
    "X_train, X_test, y_train, y_test = train_test_split(X, y, train_size=0.5, random_state=0)"
   ]
  },
  {
   "cell_type": "code",
   "execution_count": 7,
   "metadata": {
    "collapsed": false
   },
   "outputs": [
    {
     "data": {
      "text/plain": [
       "0.84459459459459463"
      ]
     },
     "execution_count": 7,
     "metadata": {},
     "output_type": "execute_result"
    }
   ],
   "source": [
    "## grow a tree\n",
    "# Pruning not supported. Choosing max depth 3)\n",
    "clf = DecisionTreeClassifier(max_depth=3)\n",
    "clf.fit(X_train, y_train)\n",
    "clf.score(X_train, y_train)"
   ]
  },
  {
   "cell_type": "code",
   "execution_count": 8,
   "metadata": {
    "collapsed": false
   },
   "outputs": [],
   "source": [
    "clfclass = np.asarray(clf.classes_, dtype=str)"
   ]
  },
  {
   "cell_type": "code",
   "execution_count": 9,
   "metadata": {
    "collapsed": false,
    "scrolled": false
   },
   "outputs": [
    {
     "data": {
      "image/svg+xml": [
       "<?xml version=\"1.0\" encoding=\"UTF-8\" standalone=\"no\"?>\n",
       "<!DOCTYPE svg PUBLIC \"-//W3C//DTD SVG 1.1//EN\"\n",
       " \"http://www.w3.org/Graphics/SVG/1.1/DTD/svg11.dtd\">\n",
       "<!-- Generated by graphviz version 2.38.0 (20140413.2041)\n",
       " -->\n",
       "<!-- Title: Tree Pages: 1 -->\n",
       "<svg width=\"936pt\" height=\"414pt\"\n",
       " viewBox=\"0.00 0.00 936.34 414.00\" xmlns=\"http://www.w3.org/2000/svg\" xmlns:xlink=\"http://www.w3.org/1999/xlink\">\n",
       "<g id=\"graph0\" class=\"graph\" transform=\"scale(1 1) rotate(0) translate(4 410)\">\n",
       "<title>Tree</title>\n",
       "<polygon fill=\"white\" stroke=\"none\" points=\"-4,4 -4,-410 932.341,-410 932.341,4 -4,4\"/>\n",
       "<!-- 0 -->\n",
       "<g id=\"node1\" class=\"node\"><title>0</title>\n",
       "<path fill=\"#e58139\" fill-opacity=\"0.278431\" stroke=\"black\" d=\"M516.582,-406C516.582,-406 425.545,-406 425.545,-406 419.545,-406 413.545,-400 413.545,-394 413.545,-394 413.545,-340 413.545,-340 413.545,-334 419.545,-328 425.545,-328 425.545,-328 516.582,-328 516.582,-328 522.582,-328 528.582,-334 528.582,-340 528.582,-340 528.582,-394 528.582,-394 528.582,-400 522.582,-406 516.582,-406\"/>\n",
       "<text text-anchor=\"start\" x=\"421.305\" y=\"-390.8\" font-family=\"Helvetica,sans-Serif\" font-size=\"14.00\">ChestPain ≤ 1.5</text>\n",
       "<text text-anchor=\"start\" x=\"430.779\" y=\"-376.8\" font-family=\"Helvetica,sans-Serif\" font-size=\"14.00\">gini = 0.4869</text>\n",
       "<text text-anchor=\"start\" x=\"425.341\" y=\"-362.8\" font-family=\"Helvetica,sans-Serif\" font-size=\"14.00\">samples = 148</text>\n",
       "<text text-anchor=\"start\" x=\"423\" y=\"-348.8\" font-family=\"Helvetica,sans-Serif\" font-size=\"14.00\">value = [86, 62]</text>\n",
       "<text text-anchor=\"start\" x=\"443.245\" y=\"-334.8\" font-family=\"Helvetica,sans-Serif\" font-size=\"14.00\">class = 0</text>\n",
       "</g>\n",
       "<!-- 1 -->\n",
       "<g id=\"node2\" class=\"node\"><title>1</title>\n",
       "<path fill=\"#399de5\" fill-opacity=\"0.450980\" stroke=\"black\" d=\"M428.191,-292C428.191,-292 339.936,-292 339.936,-292 333.936,-292 327.936,-286 327.936,-280 327.936,-280 327.936,-226 327.936,-226 327.936,-220 333.936,-214 339.936,-214 339.936,-214 428.191,-214 428.191,-214 434.191,-214 440.191,-220 440.191,-226 440.191,-226 440.191,-280 440.191,-280 440.191,-286 434.191,-292 428.191,-292\"/>\n",
       "<text text-anchor=\"start\" x=\"345.977\" y=\"-276.8\" font-family=\"Helvetica,sans-Serif\" font-size=\"14.00\">ExAng ≤ 0.5</text>\n",
       "<text text-anchor=\"start\" x=\"343.779\" y=\"-262.8\" font-family=\"Helvetica,sans-Serif\" font-size=\"14.00\">gini = 0.4572</text>\n",
       "<text text-anchor=\"start\" x=\"342.234\" y=\"-248.8\" font-family=\"Helvetica,sans-Serif\" font-size=\"14.00\">samples = 82</text>\n",
       "<text text-anchor=\"start\" x=\"336\" y=\"-234.8\" font-family=\"Helvetica,sans-Serif\" font-size=\"14.00\">value = [29, 53]</text>\n",
       "<text text-anchor=\"start\" x=\"356.245\" y=\"-220.8\" font-family=\"Helvetica,sans-Serif\" font-size=\"14.00\">class = 1</text>\n",
       "</g>\n",
       "<!-- 0&#45;&gt;1 -->\n",
       "<g id=\"edge1\" class=\"edge\"><title>0&#45;&gt;1</title>\n",
       "<path fill=\"none\" stroke=\"black\" d=\"M441.366,-327.769C434.437,-318.849 426.987,-309.257 419.825,-300.038\"/>\n",
       "<polygon fill=\"black\" stroke=\"black\" points=\"422.525,-297.809 413.627,-292.058 416.997,-302.103 422.525,-297.809\"/>\n",
       "<text text-anchor=\"middle\" x=\"410.511\" y=\"-312.664\" font-family=\"Helvetica,sans-Serif\" font-size=\"14.00\">True</text>\n",
       "</g>\n",
       "<!-- 8 -->\n",
       "<g id=\"node9\" class=\"node\"><title>8</title>\n",
       "<path fill=\"#e58139\" fill-opacity=\"0.843137\" stroke=\"black\" d=\"M599.405,-292C599.405,-292 518.722,-292 518.722,-292 512.722,-292 506.722,-286 506.722,-280 506.722,-280 506.722,-226 506.722,-226 506.722,-220 512.722,-214 518.722,-214 518.722,-214 599.405,-214 599.405,-214 605.405,-214 611.405,-220 611.405,-226 611.405,-226 611.405,-280 611.405,-280 611.405,-286 605.405,-292 599.405,-292\"/>\n",
       "<text text-anchor=\"start\" x=\"515.529\" y=\"-276.8\" font-family=\"Helvetica,sans-Serif\" font-size=\"14.00\">Oldpeak ≤ 2.1</text>\n",
       "<text text-anchor=\"start\" x=\"518.779\" y=\"-262.8\" font-family=\"Helvetica,sans-Serif\" font-size=\"14.00\">gini = 0.2355</text>\n",
       "<text text-anchor=\"start\" x=\"517.234\" y=\"-248.8\" font-family=\"Helvetica,sans-Serif\" font-size=\"14.00\">samples = 66</text>\n",
       "<text text-anchor=\"start\" x=\"514.893\" y=\"-234.8\" font-family=\"Helvetica,sans-Serif\" font-size=\"14.00\">value = [57, 9]</text>\n",
       "<text text-anchor=\"start\" x=\"531.245\" y=\"-220.8\" font-family=\"Helvetica,sans-Serif\" font-size=\"14.00\">class = 0</text>\n",
       "</g>\n",
       "<!-- 0&#45;&gt;8 -->\n",
       "<g id=\"edge8\" class=\"edge\"><title>0&#45;&gt;8</title>\n",
       "<path fill=\"none\" stroke=\"black\" d=\"M501.102,-327.769C508.111,-318.849 515.647,-309.257 522.891,-300.038\"/>\n",
       "<polygon fill=\"black\" stroke=\"black\" points=\"525.734,-302.084 529.16,-292.058 520.23,-297.759 525.734,-302.084\"/>\n",
       "<text text-anchor=\"middle\" x=\"532.139\" y=\"-312.68\" font-family=\"Helvetica,sans-Serif\" font-size=\"14.00\">False</text>\n",
       "</g>\n",
       "<!-- 2 -->\n",
       "<g id=\"node3\" class=\"node\"><title>2</title>\n",
       "<path fill=\"#e58139\" fill-opacity=\"0.262745\" stroke=\"black\" d=\"M222.191,-178C222.191,-178 133.936,-178 133.936,-178 127.936,-178 121.936,-172 121.936,-166 121.936,-166 121.936,-112 121.936,-112 121.936,-106 127.936,-100 133.936,-100 133.936,-100 222.191,-100 222.191,-100 228.191,-100 234.191,-106 234.191,-112 234.191,-112 234.191,-166 234.191,-166 234.191,-172 228.191,-178 222.191,-178\"/>\n",
       "<text text-anchor=\"start\" x=\"130.636\" y=\"-162.8\" font-family=\"Helvetica,sans-Serif\" font-size=\"14.00\">Oldpeak ≤ 2.45</text>\n",
       "<text text-anchor=\"start\" x=\"137.779\" y=\"-148.8\" font-family=\"Helvetica,sans-Serif\" font-size=\"14.00\">gini = 0.4888</text>\n",
       "<text text-anchor=\"start\" x=\"136.234\" y=\"-134.8\" font-family=\"Helvetica,sans-Serif\" font-size=\"14.00\">samples = 40</text>\n",
       "<text text-anchor=\"start\" x=\"130\" y=\"-120.8\" font-family=\"Helvetica,sans-Serif\" font-size=\"14.00\">value = [23, 17]</text>\n",
       "<text text-anchor=\"start\" x=\"150.245\" y=\"-106.8\" font-family=\"Helvetica,sans-Serif\" font-size=\"14.00\">class = 0</text>\n",
       "</g>\n",
       "<!-- 1&#45;&gt;2 -->\n",
       "<g id=\"edge2\" class=\"edge\"><title>1&#45;&gt;2</title>\n",
       "<path fill=\"none\" stroke=\"black\" d=\"M327.773,-221.396C301.658,-207.197 270.461,-190.236 243.321,-175.48\"/>\n",
       "<polygon fill=\"black\" stroke=\"black\" points=\"244.743,-172.269 234.286,-170.567 241.399,-178.419 244.743,-172.269\"/>\n",
       "</g>\n",
       "<!-- 5 -->\n",
       "<g id=\"node6\" class=\"node\"><title>5</title>\n",
       "<path fill=\"#399de5\" fill-opacity=\"0.831373\" stroke=\"black\" d=\"M428.73,-178C428.73,-178 339.397,-178 339.397,-178 333.397,-178 327.397,-172 327.397,-166 327.397,-166 327.397,-112 327.397,-112 327.397,-106 333.397,-100 339.397,-100 339.397,-100 428.73,-100 428.73,-100 434.73,-100 440.73,-106 440.73,-112 440.73,-112 440.73,-166 440.73,-166 440.73,-172 434.73,-178 428.73,-178\"/>\n",
       "<text text-anchor=\"start\" x=\"335.48\" y=\"-162.8\" font-family=\"Helvetica,sans-Serif\" font-size=\"14.00\">MaxHR ≤ 175.5</text>\n",
       "<text text-anchor=\"start\" x=\"343.779\" y=\"-148.8\" font-family=\"Helvetica,sans-Serif\" font-size=\"14.00\">gini = 0.2449</text>\n",
       "<text text-anchor=\"start\" x=\"342.234\" y=\"-134.8\" font-family=\"Helvetica,sans-Serif\" font-size=\"14.00\">samples = 42</text>\n",
       "<text text-anchor=\"start\" x=\"339.893\" y=\"-120.8\" font-family=\"Helvetica,sans-Serif\" font-size=\"14.00\">value = [6, 36]</text>\n",
       "<text text-anchor=\"start\" x=\"356.245\" y=\"-106.8\" font-family=\"Helvetica,sans-Serif\" font-size=\"14.00\">class = 1</text>\n",
       "</g>\n",
       "<!-- 1&#45;&gt;5 -->\n",
       "<g id=\"edge5\" class=\"edge\"><title>1&#45;&gt;5</title>\n",
       "<path fill=\"none\" stroke=\"black\" d=\"M384.063,-213.769C384.063,-205.57 384.063,-196.803 384.063,-188.28\"/>\n",
       "<polygon fill=\"black\" stroke=\"black\" points=\"387.564,-188.058 384.063,-178.058 380.564,-188.059 387.564,-188.058\"/>\n",
       "</g>\n",
       "<!-- 3 -->\n",
       "<g id=\"node4\" class=\"node\"><title>3</title>\n",
       "<path fill=\"#e58139\" fill-opacity=\"0.435294\" stroke=\"black\" d=\"M100.191,-64C100.191,-64 11.9365,-64 11.9365,-64 5.93645,-64 -0.0635485,-58 -0.0635485,-52 -0.0635485,-52 -0.0635485,-12 -0.0635485,-12 -0.0635485,-6 5.93645,-0 11.9365,-0 11.9365,-0 100.191,-0 100.191,-0 106.191,-0 112.191,-6 112.191,-12 112.191,-12 112.191,-52 112.191,-52 112.191,-58 106.191,-64 100.191,-64\"/>\n",
       "<text text-anchor=\"start\" x=\"15.7793\" y=\"-48.8\" font-family=\"Helvetica,sans-Serif\" font-size=\"14.00\">gini = 0.4614</text>\n",
       "<text text-anchor=\"start\" x=\"14.2344\" y=\"-34.8\" font-family=\"Helvetica,sans-Serif\" font-size=\"14.00\">samples = 36</text>\n",
       "<text text-anchor=\"start\" x=\"8\" y=\"-20.8\" font-family=\"Helvetica,sans-Serif\" font-size=\"14.00\">value = [23, 13]</text>\n",
       "<text text-anchor=\"start\" x=\"28.2446\" y=\"-6.8\" font-family=\"Helvetica,sans-Serif\" font-size=\"14.00\">class = 0</text>\n",
       "</g>\n",
       "<!-- 2&#45;&gt;3 -->\n",
       "<g id=\"edge3\" class=\"edge\"><title>2&#45;&gt;3</title>\n",
       "<path fill=\"none\" stroke=\"black\" d=\"M133.674,-99.7956C122.709,-90.3587 110.969,-80.2547 100.025,-70.8355\"/>\n",
       "<polygon fill=\"black\" stroke=\"black\" points=\"102.081,-67.9877 92.2187,-64.1172 97.5149,-73.2933 102.081,-67.9877\"/>\n",
       "</g>\n",
       "<!-- 4 -->\n",
       "<g id=\"node5\" class=\"node\"><title>4</title>\n",
       "<path fill=\"#399de5\" stroke=\"black\" d=\"M214.119,-64C214.119,-64 142.008,-64 142.008,-64 136.008,-64 130.008,-58 130.008,-52 130.008,-52 130.008,-12 130.008,-12 130.008,-6 136.008,-0 142.008,-0 142.008,-0 214.119,-0 214.119,-0 220.119,-0 226.119,-6 226.119,-12 226.119,-12 226.119,-52 226.119,-52 226.119,-58 220.119,-64 214.119,-64\"/>\n",
       "<text text-anchor=\"start\" x=\"149.458\" y=\"-48.8\" font-family=\"Helvetica,sans-Serif\" font-size=\"14.00\">gini = 0.0</text>\n",
       "<text text-anchor=\"start\" x=\"140.127\" y=\"-34.8\" font-family=\"Helvetica,sans-Serif\" font-size=\"14.00\">samples = 4</text>\n",
       "<text text-anchor=\"start\" x=\"137.786\" y=\"-20.8\" font-family=\"Helvetica,sans-Serif\" font-size=\"14.00\">value = [0, 4]</text>\n",
       "<text text-anchor=\"start\" x=\"150.245\" y=\"-6.8\" font-family=\"Helvetica,sans-Serif\" font-size=\"14.00\">class = 1</text>\n",
       "</g>\n",
       "<!-- 2&#45;&gt;4 -->\n",
       "<g id=\"edge4\" class=\"edge\"><title>2&#45;&gt;4</title>\n",
       "<path fill=\"none\" stroke=\"black\" d=\"M178.063,-99.7956C178.063,-91.4581 178.063,-82.6 178.063,-74.1534\"/>\n",
       "<polygon fill=\"black\" stroke=\"black\" points=\"181.564,-74.1171 178.063,-64.1172 174.564,-74.1172 181.564,-74.1171\"/>\n",
       "</g>\n",
       "<!-- 6 -->\n",
       "<g id=\"node7\" class=\"node\"><title>6</title>\n",
       "<path fill=\"#399de5\" fill-opacity=\"0.890196\" stroke=\"black\" d=\"M336.405,-64C336.405,-64 255.722,-64 255.722,-64 249.722,-64 243.722,-58 243.722,-52 243.722,-52 243.722,-12 243.722,-12 243.722,-6 249.722,-0 255.722,-0 255.722,-0 336.405,-0 336.405,-0 342.405,-0 348.405,-6 348.405,-12 348.405,-12 348.405,-52 348.405,-52 348.405,-58 342.405,-64 336.405,-64\"/>\n",
       "<text text-anchor=\"start\" x=\"263.565\" y=\"-48.8\" font-family=\"Helvetica,sans-Serif\" font-size=\"14.00\">gini = 0.18</text>\n",
       "<text text-anchor=\"start\" x=\"254.234\" y=\"-34.8\" font-family=\"Helvetica,sans-Serif\" font-size=\"14.00\">samples = 40</text>\n",
       "<text text-anchor=\"start\" x=\"251.893\" y=\"-20.8\" font-family=\"Helvetica,sans-Serif\" font-size=\"14.00\">value = [4, 36]</text>\n",
       "<text text-anchor=\"start\" x=\"268.245\" y=\"-6.8\" font-family=\"Helvetica,sans-Serif\" font-size=\"14.00\">class = 1</text>\n",
       "</g>\n",
       "<!-- 5&#45;&gt;6 -->\n",
       "<g id=\"edge6\" class=\"edge\"><title>5&#45;&gt;6</title>\n",
       "<path fill=\"none\" stroke=\"black\" d=\"M352.045,-99.7956C344.443,-90.7252 336.324,-81.0385 328.695,-71.9359\"/>\n",
       "<polygon fill=\"black\" stroke=\"black\" points=\"331.249,-69.5332 322.143,-64.1172 325.884,-74.0296 331.249,-69.5332\"/>\n",
       "</g>\n",
       "<!-- 7 -->\n",
       "<g id=\"node8\" class=\"node\"><title>7</title>\n",
       "<path fill=\"#e58139\" stroke=\"black\" d=\"M450.119,-64C450.119,-64 378.008,-64 378.008,-64 372.008,-64 366.008,-58 366.008,-52 366.008,-52 366.008,-12 366.008,-12 366.008,-6 372.008,-0 378.008,-0 378.008,-0 450.119,-0 450.119,-0 456.119,-0 462.119,-6 462.119,-12 462.119,-12 462.119,-52 462.119,-52 462.119,-58 456.119,-64 450.119,-64\"/>\n",
       "<text text-anchor=\"start\" x=\"385.458\" y=\"-48.8\" font-family=\"Helvetica,sans-Serif\" font-size=\"14.00\">gini = 0.0</text>\n",
       "<text text-anchor=\"start\" x=\"376.127\" y=\"-34.8\" font-family=\"Helvetica,sans-Serif\" font-size=\"14.00\">samples = 2</text>\n",
       "<text text-anchor=\"start\" x=\"373.786\" y=\"-20.8\" font-family=\"Helvetica,sans-Serif\" font-size=\"14.00\">value = [2, 0]</text>\n",
       "<text text-anchor=\"start\" x=\"386.245\" y=\"-6.8\" font-family=\"Helvetica,sans-Serif\" font-size=\"14.00\">class = 0</text>\n",
       "</g>\n",
       "<!-- 5&#45;&gt;7 -->\n",
       "<g id=\"edge7\" class=\"edge\"><title>5&#45;&gt;7</title>\n",
       "<path fill=\"none\" stroke=\"black\" d=\"M394.979,-99.7956C397.387,-91.3665 399.948,-82.4053 402.385,-73.8751\"/>\n",
       "<polygon fill=\"black\" stroke=\"black\" points=\"405.791,-74.694 405.173,-64.1172 399.06,-72.7709 405.791,-74.694\"/>\n",
       "</g>\n",
       "<!-- 9 -->\n",
       "<g id=\"node10\" class=\"node\"><title>9</title>\n",
       "<path fill=\"#e58139\" fill-opacity=\"0.894118\" stroke=\"black\" d=\"M603.73,-178C603.73,-178 514.397,-178 514.397,-178 508.397,-178 502.397,-172 502.397,-166 502.397,-166 502.397,-112 502.397,-112 502.397,-106 508.397,-100 514.397,-100 514.397,-100 603.73,-100 603.73,-100 609.73,-100 615.73,-106 615.73,-112 615.73,-112 615.73,-166 615.73,-166 615.73,-172 609.73,-178 603.73,-178\"/>\n",
       "<text text-anchor=\"start\" x=\"510.48\" y=\"-162.8\" font-family=\"Helvetica,sans-Serif\" font-size=\"14.00\">MaxHR ≤ 131.5</text>\n",
       "<text text-anchor=\"start\" x=\"518.779\" y=\"-148.8\" font-family=\"Helvetica,sans-Serif\" font-size=\"14.00\">gini = 0.1748</text>\n",
       "<text text-anchor=\"start\" x=\"517.234\" y=\"-134.8\" font-family=\"Helvetica,sans-Serif\" font-size=\"14.00\">samples = 62</text>\n",
       "<text text-anchor=\"start\" x=\"514.893\" y=\"-120.8\" font-family=\"Helvetica,sans-Serif\" font-size=\"14.00\">value = [56, 6]</text>\n",
       "<text text-anchor=\"start\" x=\"531.245\" y=\"-106.8\" font-family=\"Helvetica,sans-Serif\" font-size=\"14.00\">class = 0</text>\n",
       "</g>\n",
       "<!-- 8&#45;&gt;9 -->\n",
       "<g id=\"edge9\" class=\"edge\"><title>8&#45;&gt;9</title>\n",
       "<path fill=\"none\" stroke=\"black\" d=\"M559.063,-213.769C559.063,-205.57 559.063,-196.803 559.063,-188.28\"/>\n",
       "<polygon fill=\"black\" stroke=\"black\" points=\"562.564,-188.058 559.063,-178.058 555.564,-188.059 562.564,-188.058\"/>\n",
       "</g>\n",
       "<!-- 12 -->\n",
       "<g id=\"node13\" class=\"node\"><title>12</title>\n",
       "<path fill=\"#399de5\" fill-opacity=\"0.666667\" stroke=\"black\" d=\"M801.119,-178C801.119,-178 729.008,-178 729.008,-178 723.008,-178 717.008,-172 717.008,-166 717.008,-166 717.008,-112 717.008,-112 717.008,-106 723.008,-100 729.008,-100 729.008,-100 801.119,-100 801.119,-100 807.119,-100 813.119,-106 813.119,-112 813.119,-112 813.119,-166 813.119,-166 813.119,-172 807.119,-178 801.119,-178\"/>\n",
       "<text text-anchor=\"start\" x=\"725.418\" y=\"-162.8\" font-family=\"Helvetica,sans-Serif\" font-size=\"14.00\">Chol ≤ 238.0</text>\n",
       "<text text-anchor=\"start\" x=\"728.672\" y=\"-148.8\" font-family=\"Helvetica,sans-Serif\" font-size=\"14.00\">gini = 0.375</text>\n",
       "<text text-anchor=\"start\" x=\"727.127\" y=\"-134.8\" font-family=\"Helvetica,sans-Serif\" font-size=\"14.00\">samples = 4</text>\n",
       "<text text-anchor=\"start\" x=\"724.786\" y=\"-120.8\" font-family=\"Helvetica,sans-Serif\" font-size=\"14.00\">value = [1, 3]</text>\n",
       "<text text-anchor=\"start\" x=\"737.245\" y=\"-106.8\" font-family=\"Helvetica,sans-Serif\" font-size=\"14.00\">class = 1</text>\n",
       "</g>\n",
       "<!-- 8&#45;&gt;12 -->\n",
       "<g id=\"edge12\" class=\"edge\"><title>8&#45;&gt;12</title>\n",
       "<path fill=\"none\" stroke=\"black\" d=\"M611.312,-223.593C640.695,-207.618 677.423,-187.649 707.613,-171.235\"/>\n",
       "<polygon fill=\"black\" stroke=\"black\" points=\"709.644,-174.115 716.757,-166.263 706.3,-167.965 709.644,-174.115\"/>\n",
       "</g>\n",
       "<!-- 10 -->\n",
       "<g id=\"node11\" class=\"node\"><title>10</title>\n",
       "<path fill=\"#e58139\" fill-opacity=\"0.250980\" stroke=\"black\" d=\"M565.133,-64C565.133,-64 492.994,-64 492.994,-64 486.994,-64 480.994,-58 480.994,-52 480.994,-52 480.994,-12 480.994,-12 480.994,-6 486.994,-0 492.994,-0 492.994,-0 565.133,-0 565.133,-0 571.133,-0 577.133,-6 577.133,-12 577.133,-12 577.133,-52 577.133,-52 577.133,-58 571.133,-64 565.133,-64\"/>\n",
       "<text text-anchor=\"start\" x=\"488.779\" y=\"-48.8\" font-family=\"Helvetica,sans-Serif\" font-size=\"14.00\">gini = 0.4898</text>\n",
       "<text text-anchor=\"start\" x=\"491.127\" y=\"-34.8\" font-family=\"Helvetica,sans-Serif\" font-size=\"14.00\">samples = 7</text>\n",
       "<text text-anchor=\"start\" x=\"488.786\" y=\"-20.8\" font-family=\"Helvetica,sans-Serif\" font-size=\"14.00\">value = [4, 3]</text>\n",
       "<text text-anchor=\"start\" x=\"501.245\" y=\"-6.8\" font-family=\"Helvetica,sans-Serif\" font-size=\"14.00\">class = 0</text>\n",
       "</g>\n",
       "<!-- 9&#45;&gt;10 -->\n",
       "<g id=\"edge10\" class=\"edge\"><title>9&#45;&gt;10</title>\n",
       "<path fill=\"none\" stroke=\"black\" d=\"M548.148,-99.7956C545.74,-91.3665 543.179,-82.4053 540.742,-73.8751\"/>\n",
       "<polygon fill=\"black\" stroke=\"black\" points=\"544.067,-72.7709 537.954,-64.1172 537.336,-74.694 544.067,-72.7709\"/>\n",
       "</g>\n",
       "<!-- 11 -->\n",
       "<g id=\"node12\" class=\"node\"><title>11</title>\n",
       "<path fill=\"#e58139\" fill-opacity=\"0.941176\" stroke=\"black\" d=\"M687.405,-64C687.405,-64 606.722,-64 606.722,-64 600.722,-64 594.722,-58 594.722,-52 594.722,-52 594.722,-12 594.722,-12 594.722,-6 600.722,-0 606.722,-0 606.722,-0 687.405,-0 687.405,-0 693.405,-0 699.405,-6 699.405,-12 699.405,-12 699.405,-52 699.405,-52 699.405,-58 693.405,-64 687.405,-64\"/>\n",
       "<text text-anchor=\"start\" x=\"606.779\" y=\"-48.8\" font-family=\"Helvetica,sans-Serif\" font-size=\"14.00\">gini = 0.1031</text>\n",
       "<text text-anchor=\"start\" x=\"605.234\" y=\"-34.8\" font-family=\"Helvetica,sans-Serif\" font-size=\"14.00\">samples = 55</text>\n",
       "<text text-anchor=\"start\" x=\"602.893\" y=\"-20.8\" font-family=\"Helvetica,sans-Serif\" font-size=\"14.00\">value = [52, 3]</text>\n",
       "<text text-anchor=\"start\" x=\"619.245\" y=\"-6.8\" font-family=\"Helvetica,sans-Serif\" font-size=\"14.00\">class = 0</text>\n",
       "</g>\n",
       "<!-- 9&#45;&gt;11 -->\n",
       "<g id=\"edge11\" class=\"edge\"><title>9&#45;&gt;11</title>\n",
       "<path fill=\"none\" stroke=\"black\" d=\"M591.082,-99.7956C598.684,-90.7252 606.803,-81.0385 614.431,-71.9359\"/>\n",
       "<polygon fill=\"black\" stroke=\"black\" points=\"617.243,-74.0296 620.984,-64.1172 611.878,-69.5332 617.243,-74.0296\"/>\n",
       "</g>\n",
       "<!-- 13 -->\n",
       "<g id=\"node14\" class=\"node\"><title>13</title>\n",
       "<path fill=\"#399de5\" stroke=\"black\" d=\"M801.119,-64C801.119,-64 729.008,-64 729.008,-64 723.008,-64 717.008,-58 717.008,-52 717.008,-52 717.008,-12 717.008,-12 717.008,-6 723.008,-0 729.008,-0 729.008,-0 801.119,-0 801.119,-0 807.119,-0 813.119,-6 813.119,-12 813.119,-12 813.119,-52 813.119,-52 813.119,-58 807.119,-64 801.119,-64\"/>\n",
       "<text text-anchor=\"start\" x=\"736.458\" y=\"-48.8\" font-family=\"Helvetica,sans-Serif\" font-size=\"14.00\">gini = 0.0</text>\n",
       "<text text-anchor=\"start\" x=\"727.127\" y=\"-34.8\" font-family=\"Helvetica,sans-Serif\" font-size=\"14.00\">samples = 3</text>\n",
       "<text text-anchor=\"start\" x=\"724.786\" y=\"-20.8\" font-family=\"Helvetica,sans-Serif\" font-size=\"14.00\">value = [0, 3]</text>\n",
       "<text text-anchor=\"start\" x=\"737.245\" y=\"-6.8\" font-family=\"Helvetica,sans-Serif\" font-size=\"14.00\">class = 1</text>\n",
       "</g>\n",
       "<!-- 12&#45;&gt;13 -->\n",
       "<g id=\"edge13\" class=\"edge\"><title>12&#45;&gt;13</title>\n",
       "<path fill=\"none\" stroke=\"black\" d=\"M765.063,-99.7956C765.063,-91.4581 765.063,-82.6 765.063,-74.1534\"/>\n",
       "<polygon fill=\"black\" stroke=\"black\" points=\"768.564,-74.1171 765.063,-64.1172 761.564,-74.1172 768.564,-74.1171\"/>\n",
       "</g>\n",
       "<!-- 14 -->\n",
       "<g id=\"node15\" class=\"node\"><title>14</title>\n",
       "<path fill=\"#e58139\" stroke=\"black\" d=\"M916.119,-64C916.119,-64 844.008,-64 844.008,-64 838.008,-64 832.008,-58 832.008,-52 832.008,-52 832.008,-12 832.008,-12 832.008,-6 838.008,-0 844.008,-0 844.008,-0 916.119,-0 916.119,-0 922.119,-0 928.119,-6 928.119,-12 928.119,-12 928.119,-52 928.119,-52 928.119,-58 922.119,-64 916.119,-64\"/>\n",
       "<text text-anchor=\"start\" x=\"851.458\" y=\"-48.8\" font-family=\"Helvetica,sans-Serif\" font-size=\"14.00\">gini = 0.0</text>\n",
       "<text text-anchor=\"start\" x=\"842.127\" y=\"-34.8\" font-family=\"Helvetica,sans-Serif\" font-size=\"14.00\">samples = 1</text>\n",
       "<text text-anchor=\"start\" x=\"839.786\" y=\"-20.8\" font-family=\"Helvetica,sans-Serif\" font-size=\"14.00\">value = [1, 0]</text>\n",
       "<text text-anchor=\"start\" x=\"852.245\" y=\"-6.8\" font-family=\"Helvetica,sans-Serif\" font-size=\"14.00\">class = 0</text>\n",
       "</g>\n",
       "<!-- 12&#45;&gt;14 -->\n",
       "<g id=\"edge14\" class=\"edge\"><title>12&#45;&gt;14</title>\n",
       "<path fill=\"none\" stroke=\"black\" d=\"M806.906,-99.7956C817.142,-90.4503 828.093,-80.4509 838.324,-71.11\"/>\n",
       "<polygon fill=\"black\" stroke=\"black\" points=\"840.958,-73.4446 845.983,-64.1172 836.238,-68.2752 840.958,-73.4446\"/>\n",
       "</g>\n",
       "</g>\n",
       "</svg>\n"
      ],
      "text/plain": [
       "<graphviz.files.Source at 0x103ddb9b0>"
      ]
     },
     "execution_count": 9,
     "metadata": {},
     "output_type": "execute_result"
    }
   ],
   "source": [
    "export_graphviz(clf, out_file=\"mytree.dot\", feature_names=X_train.columns, class_names=clfclass, \n",
    "                filled=True, rounded=True, special_characters=True)\n",
    "with open(\"mytree.dot\") as f:\n",
    "    dot_graph = f.read()\n",
    "graphviz.Source(dot_graph)"
   ]
  },
  {
   "cell_type": "code",
   "execution_count": 10,
   "metadata": {
    "collapsed": false
   },
   "outputs": [
    {
     "name": "stdout",
     "output_type": "stream",
     "text": [
      "     No  Yes\n",
      "No   65   36\n",
      "Yes   9   39\n"
     ]
    }
   ],
   "source": [
    "pred = clf.predict(X_test)\n",
    "predprob = clf.predict_proba(X_test)\n",
    "cm = pd.DataFrame(confusion_matrix(y_test, pred).T, index=['No', 'Yes'], columns=['No', 'Yes'])\n",
    "print(cm)"
   ]
  },
  {
   "cell_type": "code",
   "execution_count": 11,
   "metadata": {
    "collapsed": true
   },
   "outputs": [],
   "source": [
    "from sklearn.metrics import roc_curve, auc\n",
    "fpr, tpr, thresholds=roc_curve(y_test, predprob[:,1])"
   ]
  },
  {
   "cell_type": "code",
   "execution_count": 12,
   "metadata": {
    "collapsed": false
   },
   "outputs": [
    {
     "data": {
      "text/plain": [
       "<matplotlib.text.Text at 0x119823828>"
      ]
     },
     "execution_count": 12,
     "metadata": {},
     "output_type": "execute_result"
    },
    {
     "data": {
      "image/png": "[encoded data removed]",
      "text/plain": [
       "<matplotlib.figure.Figure at 0x1173eb0f0>"
      ]
     },
     "metadata": {},
     "output_type": "display_data"
    }
   ],
   "source": [
    "ax=plt.gca()\n",
    "ax.plot(fpr, tpr)\n",
    "ax.plot([0, 1], [0, 1], 'k--')\n",
    "ax.set_xlim([0.0, 1.0])\n",
    "ax.set_ylim([0.0, 1.05])\n",
    "ax.set_xlabel('False Positive Rate')\n",
    "ax.set_ylabel('True Positive Rate')\n",
    "ax.set_title('ROC')"
   ]
  },
  {
   "cell_type": "code",
   "execution_count": 13,
   "metadata": {
    "collapsed": false
   },
   "outputs": [
    {
     "name": "stdout",
     "output_type": "stream",
     "text": [
      "0.751891891892\n"
     ]
    }
   ],
   "source": [
    "roc_auc = auc(fpr, tpr)\n",
    "print(roc_auc)"
   ]
  }
 ],
 "metadata": {
  "anaconda-cloud": {},
  "kernelspec": {
   "display_name": "Python [Root]",
   "language": "python",
   "name": "Python [Root]"
  },
  "language_info": {
   "codemirror_mode": {
    "name": "ipython",
    "version": 3
   },
   "file_extension": ".py",
   "mimetype": "text/x-python",
   "name": "python",
   "nbconvert_exporter": "python",
   "pygments_lexer": "ipython3",
   "version": "3.5.2"
  }
 },
 "nbformat": 4,
 "nbformat_minor": 0
}
